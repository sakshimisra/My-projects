{
  "nbformat": 4,
  "nbformat_minor": 0,
  "metadata": {
    "colab": {
      "name": "deep learning.ipynb",
      "provenance": [],
      "collapsed_sections": []
    },
    "kernelspec": {
      "name": "python3",
      "display_name": "Python 3"
    }
  },
  "cells": [
    {
      "cell_type": "code",
      "metadata": {
        "id": "x6CJIQbMFiOp",
        "colab_type": "code",
        "outputId": "ee4e86d0-d167-4ae4-ebb4-00aa351b47af",
        "colab": {
          "base_uri": "https://localhost:8080/",
          "height": 34
        }
      },
      "source": [
        "from google.colab import drive\n",
        "drive.mount('/content/gdrive')"
      ],
      "execution_count": 0,
      "outputs": [
        {
          "output_type": "stream",
          "text": [
            "Drive already mounted at /content/gdrive; to attempt to forcibly remount, call drive.mount(\"/content/gdrive\", force_remount=True).\n"
          ],
          "name": "stdout"
        }
      ]
    },
    {
      "cell_type": "code",
      "metadata": {
        "id": "sCJ-QDogI8bo",
        "colab_type": "code",
        "outputId": "5d8b74f8-2a36-4983-c4c4-f38e9156c564",
        "colab": {
          "base_uri": "https://localhost:8080/",
          "height": 50
        }
      },
      "source": [
        "#PART1-preprocessing_data \n",
        "\n",
        "import cv2\n",
        "import numpy as np\n",
        "import os\n",
        "import pickle\n",
        " \n",
        "path=\"/content/gdrive/My Drive/Colab Notebooks/PetImages\"\n",
        "img_size=80\n",
        "training_dataset=[]\n",
        "categories=[\"Dog\",\"Cat\"]\n",
        "count=0\n",
        "for category in categories:\n",
        "    def preprocessing_data(folder_path):\n",
        "        image_path=os.path.join(folder_path,category)\n",
        "        print(image_path)\n",
        "        for Image in os.listdir(image_path):\n",
        "            if(Image is not None):\n",
        "                img= cv2.imread(os.path.join(image_path,Image))\n",
        "                if(img is not None):\n",
        "                    img_gray= cv2.cvtColor(img, cv2.COLOR_BGR2GRAY) \n",
        "                    img_gray_resize= cv2.resize(img_gray,(img_size,img_size))\n",
        "                    training_dataset.append([img_gray_resize,categories.index(category)])      \n",
        "\n",
        "    preprocessing_data(path)\n",
        "\n",
        "X=[]\n",
        "y=[]\n",
        "import random\n",
        "random.shuffle(training_dataset) \n",
        "#training_dataset=np.random.shuffle(training_dataset), online search to shuffle the data, creating issue \n",
        "for features, label in training_dataset:\n",
        "    X.append(features)\n",
        "    y.append(label)\n",
        "     \n",
        "X = np.array(X).reshape(-1, img_size, img_size, 1)  \n",
        "\n",
        "#pickle files\n",
        "pickle_X=open(\"/content/gdrive/My Drive/Colab Notebooks/X.pickle\",\"wb\")\n",
        "pickle.dump(X,pickle_X)\n",
        "pickle_X.close()\n",
        " \n",
        "pickle_y=open(\"/content/gdrive/My Drive/Colab Notebooks/y.pickle\",\"wb\")\n",
        "pickle.dump(y,pickle_y)\n",
        "pickle_y.close()    \n"
      ],
      "execution_count": 0,
      "outputs": [
        {
          "output_type": "stream",
          "text": [
            "/content/gdrive/My Drive/Colab Notebooks/PetImages/Dog\n",
            "/content/gdrive/My Drive/Colab Notebooks/PetImages/Cat\n"
          ],
          "name": "stdout"
        }
      ]
    },
    {
      "cell_type": "code",
      "metadata": {
        "id": "luwwCaRwJCRw",
        "colab_type": "code",
        "colab": {}
      },
      "source": [
        "#Part2-Model architecture\n",
        "from tensorflow.keras.models import Sequential\n",
        "from tensorflow.keras.layers import Dense, Dropout, Activation, Flatten\n",
        "from tensorflow.keras.layers import Conv2D, MaxPooling2D\n",
        "from tensorflow.keras.callbacks import TensorBoard\n",
        "from tensorflow.keras.utils import to_categorical\n",
        "import pickle\n",
        "import time\n",
        "\n"
      ],
      "execution_count": 0,
      "outputs": []
    },
    {
      "cell_type": "code",
      "metadata": {
        "id": "EecutAl6Yn-Q",
        "colab_type": "code",
        "outputId": "ecc7c353-8f09-4d1c-c384-90bb5d3e7807",
        "colab": {
          "base_uri": "https://localhost:8080/",
          "height": 87
        }
      },
      "source": [
        "import tensorflow.compat.v1 as tf\n",
        "tf.disable_v2_behavior()"
      ],
      "execution_count": 0,
      "outputs": [
        {
          "output_type": "stream",
          "text": [
            "WARNING:tensorflow:From /usr/local/lib/python3.6/dist-packages/tensorflow_core/python/compat/v2_compat.py:68: disable_resource_variables (from tensorflow.python.ops.variable_scope) is deprecated and will be removed in a future version.\n",
            "Instructions for updating:\n",
            "non-resource variables are not supported in the long term\n"
          ],
          "name": "stdout"
        }
      ]
    },
    {
      "cell_type": "code",
      "metadata": {
        "id": "iV6AxkmpYMV1",
        "colab_type": "code",
        "outputId": "1d3b5a3c-db6a-4982-d2e4-9c05398aa31a",
        "colab": {
          "base_uri": "https://localhost:8080/",
          "height": 440
        }
      },
      "source": [
        "import tensorflow.compat.v1 as tf\n",
        "tf.disable_v2_behavior()\n",
        "\n",
        "NAME = \"3-conv-128-layer-dense-1-out-2-softmax-categorical-cross-2-CNN\"\n",
        " \n",
        "pickle_in = open(\"/content/gdrive/My Drive/Colab Notebooks/X.pickle\",\"rb\")\n",
        "X = pickle.load(pickle_in)\n",
        " \n",
        "pickle_in = open(\"/content/gdrive/My Drive/Colab Notebooks/y.pickle\",\"rb\")\n",
        "y = pickle.load(pickle_in)\n",
        "y = to_categorical(y)\n",
        " \n",
        "X = X/255.0\n",
        "\n",
        "model = Sequential()\n",
        "\n",
        "#Adding filteration Layers\n",
        "#Convolution layer:takes the data from the window of (3,3) and then make a conclusion using filters\n",
        "#activation function:Relu is a rectified linear function\n",
        "#Max pool:taking the 2×2 window and finding the max value, and allow that value will pass to the next layer\n",
        "#Drop out.Dropout layer:it will drop certaiin percentage of conclusions at every step to avoid over fitting of data.\n",
        "\n",
        "model.add(Conv2D(128, (3, 3), input_shape=(80,80,1)))\n",
        "model.add(Activation('relu'))\n",
        "model.add(MaxPooling2D(pool_size=(2, 2)))\n",
        "model.add(Dropout(0.3))\n",
        " \n",
        "model.add(Conv2D(128, (3, 3)))\n",
        "model.add(Activation('relu'))\n",
        "model.add(MaxPooling2D(pool_size=(2, 2)))\n",
        "model.add(Dropout(0.3))\n",
        " \n",
        "model.add(Conv2D(128, (3, 3)))\n",
        "model.add(Activation('relu'))\n",
        "model.add(MaxPooling2D(pool_size=(2, 2)))\n",
        "model.add(Dropout(0.3))\n",
        " \n",
        " # Flatten layer is use to flat the matrix,it convert 3D array layers to 1D array layers,because dense layer works on 1D layer.\n",
        "model.add(Flatten())  \n",
        " \n",
        "model.add(Dense(128))\n",
        "model.add(Activation('relu'))\n",
        " \n",
        "model.add(Dense(2))\n",
        "model.add(Activation('softmax'))\n",
        " \n",
        "tensorboard = TensorBoard(log_dir=\"/content/gdrive/My Drive/Colab Notebooks/{}\".format(NAME))\n",
        " \n",
        " #Computing cost\n",
        "model.compile(loss='categorical_crossentropy',\n",
        "              optimizer='adam',\n",
        "              metrics=['accuracy'],\n",
        "              )\n",
        " \n",
        "#Fitting the model\n",
        "model.fit(X, y,\n",
        "          batch_size=32,\n",
        "          epochs=10,\n",
        "          validation_split=0.3,\n",
        "          callbacks=[tensorboard])\n",
        " \n",
        "\n",
        "model.save(f\"/content/gdrive/My Drive/Colab Notebooks/{NAME}.model\")"
      ],
      "execution_count": 0,
      "outputs": [
        {
          "output_type": "stream",
          "text": [
            "WARNING:tensorflow:From /usr/local/lib/python3.6/dist-packages/tensorflow_core/python/ops/resource_variable_ops.py:1630: calling BaseResourceVariable.__init__ (from tensorflow.python.ops.resource_variable_ops) with constraint is deprecated and will be removed in a future version.\n",
            "Instructions for updating:\n",
            "If using Keras pass *_constraint arguments to layers.\n",
            "Train on 17462 samples, validate on 7484 samples\n",
            "Epoch 1/10\n",
            "17462/17462 [==============================] - 762s 44ms/sample - loss: 0.6552 - acc: 0.5994 - val_loss: 0.5889 - val_acc: 0.6899\n",
            "Epoch 2/10\n",
            "17462/17462 [==============================] - 758s 43ms/sample - loss: 0.5642 - acc: 0.7087 - val_loss: 0.5200 - val_acc: 0.7457\n",
            "Epoch 3/10\n",
            "17462/17462 [==============================] - 757s 43ms/sample - loss: 0.4839 - acc: 0.7674 - val_loss: 0.4436 - val_acc: 0.8009\n",
            "Epoch 4/10\n",
            "17462/17462 [==============================] - 759s 43ms/sample - loss: 0.4400 - acc: 0.7957 - val_loss: 0.4004 - val_acc: 0.8227\n",
            "Epoch 5/10\n",
            "17462/17462 [==============================] - 756s 43ms/sample - loss: 0.3997 - acc: 0.8150 - val_loss: 0.4335 - val_acc: 0.7996\n",
            "Epoch 6/10\n",
            "17462/17462 [==============================] - 757s 43ms/sample - loss: 0.3687 - acc: 0.8350 - val_loss: 0.3599 - val_acc: 0.8425\n",
            "Epoch 7/10\n",
            "17462/17462 [==============================] - 754s 43ms/sample - loss: 0.3374 - acc: 0.8484 - val_loss: 0.3493 - val_acc: 0.8502\n",
            "Epoch 8/10\n",
            "17462/17462 [==============================] - 762s 44ms/sample - loss: 0.3130 - acc: 0.8639 - val_loss: 0.3450 - val_acc: 0.8510\n",
            "Epoch 9/10\n",
            "17462/17462 [==============================] - 764s 44ms/sample - loss: 0.2868 - acc: 0.8770 - val_loss: 0.3572 - val_acc: 0.8433\n",
            "Epoch 10/10\n",
            "17462/17462 [==============================] - 767s 44ms/sample - loss: 0.2609 - acc: 0.8875 - val_loss: 0.3386 - val_acc: 0.8529\n"
          ],
          "name": "stdout"
        }
      ]
    },
    {
      "cell_type": "code",
      "metadata": {
        "id": "FFiuQ82BIjqR",
        "colab_type": "code",
        "outputId": "36b3c228-aee4-418d-fd14-8641293c2f65",
        "colab": {
          "base_uri": "https://localhost:8080/",
          "height": 34
        }
      },
      "source": [
        "\n",
        "#Part3- Test the Model\n",
        "#Upload the Dog Image and Cat image in this location /content/gdrive/My Drive/Colab Notebooks/\n",
        "\n",
        "import cv2\n",
        "import numpy as np\n",
        "def prepare(filepath):\n",
        "    img_size = 80  \n",
        "    img = cv2.imread(filepath, cv2.IMREAD_GRAYSCALE)/255  \n",
        "    img_resize = cv2.resize(img, (img_size, img_size))  \n",
        "    array=np.array(img_resize)\n",
        "    return array.reshape(-1, img_size, img_size, 1)\n",
        "\n",
        "#Uploaded cat image\n",
        "prediction=model.predict(prepare(\"/content/gdrive/My Drive/Colab Notebooks/cat.webp\"))\n",
        "print(prediction)"
      ],
      "execution_count": 19,
      "outputs": [
        {
          "output_type": "stream",
          "text": [
            "[[0.07144612 0.9285539 ]]\n"
          ],
          "name": "stdout"
        }
      ]
    }
  ]
}