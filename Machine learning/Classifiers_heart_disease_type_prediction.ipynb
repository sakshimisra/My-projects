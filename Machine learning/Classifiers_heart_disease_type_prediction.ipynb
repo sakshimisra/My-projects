{
  "nbformat": 4,
  "nbformat_minor": 0,
  "metadata": {
    "colab": {
      "name": "Assgn1.ipynb",
      "provenance": [],
      "collapsed_sections": []
    },
    "kernelspec": {
      "name": "python3",
      "display_name": "Python 3"
    }
  },
  "cells": [
    {
      "cell_type": "code",
      "metadata": {
        "id": "sXE_ZwYii0yI",
        "colab_type": "code",
        "colab": {}
      },
      "source": [
        "#Initializing libraries and modules\n",
        "\n",
        "import numpy as np # linear algebra\n",
        "import pandas as pd # data processing, CSV file I/O (e.g. pd.read_csv)\n",
        "import seaborn as sns\n",
        "import matplotlib.pyplot as plt\n",
        "%matplotlib inline\n",
        "\n",
        "import warnings\n",
        "warnings.filterwarnings(\"ignore\")"
      ],
      "execution_count": 0,
      "outputs": []
    },
    {
      "cell_type": "code",
      "metadata": {
        "id": "ZItQM_JelcaB",
        "colab_type": "code",
        "outputId": "7a3356d6-5645-4464-f616-1bfe5aa036c0",
        "colab": {
          "base_uri": "https://localhost:8080/",
          "height": 903
        }
      },
      "source": [
        "#Getting data file\n",
        "\n",
        "!wget https://git.imp.fu-berlin.de/guilleg96/ifabi-2019/raw/master/Project_Week1/processed.cleveland.data -p drive/content\n",
        "df = pd.read_csv(\"/content/processed.cleveland.data\")\n",
        "df.info()\n"
      ],
      "execution_count": 2,
      "outputs": [
        {
          "output_type": "stream",
          "text": [
            "--2019-10-26 16:33:55--  https://git.imp.fu-berlin.de/guilleg96/ifabi-2019/raw/master/Project_Week1/processed.cleveland.data\n",
            "Resolving git.imp.fu-berlin.de (git.imp.fu-berlin.de)... 160.45.117.96\n",
            "Connecting to git.imp.fu-berlin.de (git.imp.fu-berlin.de)|160.45.117.96|:443... connected.\n",
            "HTTP request sent, awaiting response... 302 Found\n",
            "Location: https://git.imp.fu-berlin.de/users/sign_in [following]\n",
            "--2019-10-26 16:33:56--  https://git.imp.fu-berlin.de/users/sign_in\n",
            "Reusing existing connection to git.imp.fu-berlin.de:443.\n",
            "HTTP request sent, awaiting response... 200 OK\n",
            "Length: unspecified [text/html]\n",
            "Saving to: ‘git.imp.fu-berlin.de/guilleg96/ifabi-2019/raw/master/Project_Week1/processed.cleveland.data’\n",
            "\n",
            "\r          git.imp.f     [<=>                 ]       0  --.-KB/s               \rgit.imp.fu-berlin.d     [ <=>                ]  10.76K  --.-KB/s    in 0s      \n",
            "\n",
            "2019-10-26 16:33:56 (206 MB/s) - ‘git.imp.fu-berlin.de/guilleg96/ifabi-2019/raw/master/Project_Week1/processed.cleveland.data’ saved [11015]\n",
            "\n",
            "Loading robots.txt; please ignore errors.\n",
            "--2019-10-26 16:33:56--  https://git.imp.fu-berlin.de/robots.txt\n",
            "Reusing existing connection to git.imp.fu-berlin.de:443.\n",
            "HTTP request sent, awaiting response... 200 OK\n",
            "Length: 2153 (2.1K) [text/plain]\n",
            "Saving to: ‘git.imp.fu-berlin.de/robots.txt’\n",
            "\n",
            "\r          git.imp.f   0%[                    ]       0  --.-KB/s               \rgit.imp.fu-berlin.d 100%[===================>]   2.10K  --.-KB/s    in 0s      \n",
            "\n",
            "2019-10-26 16:33:56 (524 MB/s) - ‘git.imp.fu-berlin.de/robots.txt’ saved [2153/2153]\n",
            "\n",
            "--2019-10-26 16:33:56--  http://drive/content\n",
            "Resolving drive (drive)... failed: No address associated with hostname.\n",
            "wget: unable to resolve host address ‘drive’\n",
            "FINISHED --2019-10-26 16:33:56--\n",
            "Total wall clock time: 0.7s\n",
            "Downloaded: 2 files, 13K in 0s (229 MB/s)\n",
            "<class 'pandas.core.frame.DataFrame'>\n",
            "RangeIndex: 302 entries, 0 to 301\n",
            "Data columns (total 14 columns):\n",
            "63.0     302 non-null float64\n",
            "1.0      302 non-null float64\n",
            "1.0.1    302 non-null float64\n",
            "145.0    302 non-null float64\n",
            "233.0    302 non-null float64\n",
            "1.0.2    302 non-null float64\n",
            "2.0      302 non-null float64\n",
            "150.0    302 non-null float64\n",
            "0.0      302 non-null float64\n",
            "2.3      302 non-null float64\n",
            "3.0      302 non-null float64\n",
            "0.0.1    302 non-null object\n",
            "6.0      302 non-null object\n",
            "0        302 non-null int64\n",
            "dtypes: float64(11), int64(1), object(2)\n",
            "memory usage: 33.2+ KB\n"
          ],
          "name": "stdout"
        }
      ]
    },
    {
      "cell_type": "code",
      "metadata": {
        "id": "uU-03L1KmmHu",
        "colab_type": "code",
        "outputId": "207089ff-d509-4255-f4b3-f4c17d1d5015",
        "colab": {
          "base_uri": "https://localhost:8080/",
          "height": 347
        }
      },
      "source": [
        "#adding column names/indexes\n",
        "columns=[\"age\",\"sex\",\"cp\",\"trestbps\",\"chol\",\"fbs\",\"restecg\",\"thalach\",\"exang\",\"oldpeak\",\"slope\",\"ca\",\"thal\",\"target\"]\n",
        "df=pd.read_csv(r\"/content/processed.cleveland.data\",sep=',',names=columns)\n",
        "df.info()"
      ],
      "execution_count": 3,
      "outputs": [
        {
          "output_type": "stream",
          "text": [
            "<class 'pandas.core.frame.DataFrame'>\n",
            "RangeIndex: 303 entries, 0 to 302\n",
            "Data columns (total 14 columns):\n",
            "age         303 non-null float64\n",
            "sex         303 non-null float64\n",
            "cp          303 non-null float64\n",
            "trestbps    303 non-null float64\n",
            "chol        303 non-null float64\n",
            "fbs         303 non-null float64\n",
            "restecg     303 non-null float64\n",
            "thalach     303 non-null float64\n",
            "exang       303 non-null float64\n",
            "oldpeak     303 non-null float64\n",
            "slope       303 non-null float64\n",
            "ca          303 non-null object\n",
            "thal        303 non-null object\n",
            "target      303 non-null int64\n",
            "dtypes: float64(11), int64(1), object(2)\n",
            "memory usage: 33.3+ KB\n"
          ],
          "name": "stdout"
        }
      ]
    },
    {
      "cell_type": "code",
      "metadata": {
        "id": "uu9YuIuGoT0t",
        "colab_type": "code",
        "outputId": "b24e834e-e85e-4876-8331-3b70ecfc3bb4",
        "colab": {
          "base_uri": "https://localhost:8080/",
          "height": 347
        }
      },
      "source": [
        "#Clean incomplete data rows\n",
        "\n",
        "for col in columns:\n",
        "  df[col] = df[col].replace(\"?\", np.nan)\n",
        "\n",
        "df=df.dropna()\n",
        "df.info()"
      ],
      "execution_count": 4,
      "outputs": [
        {
          "output_type": "stream",
          "text": [
            "<class 'pandas.core.frame.DataFrame'>\n",
            "Int64Index: 297 entries, 0 to 301\n",
            "Data columns (total 14 columns):\n",
            "age         297 non-null float64\n",
            "sex         297 non-null float64\n",
            "cp          297 non-null float64\n",
            "trestbps    297 non-null float64\n",
            "chol        297 non-null float64\n",
            "fbs         297 non-null float64\n",
            "restecg     297 non-null float64\n",
            "thalach     297 non-null float64\n",
            "exang       297 non-null float64\n",
            "oldpeak     297 non-null float64\n",
            "slope       297 non-null float64\n",
            "ca          297 non-null object\n",
            "thal        297 non-null object\n",
            "target      297 non-null int64\n",
            "dtypes: float64(11), int64(1), object(2)\n",
            "memory usage: 34.8+ KB\n"
          ],
          "name": "stdout"
        }
      ]
    },
    {
      "cell_type": "code",
      "metadata": {
        "id": "6ZzMk6vGpzqG",
        "colab_type": "code",
        "outputId": "2bca2369-c649-45df-813e-7a748ff68d52",
        "colab": {
          "base_uri": "https://localhost:8080/",
          "height": 347
        }
      },
      "source": [
        "#Convert values to numeric datasets\n",
        "\n",
        "for col in columns:\n",
        "  df[col] = pd.to_numeric(df[col], downcast = 'integer')\n",
        "\n",
        "df.info()"
      ],
      "execution_count": 5,
      "outputs": [
        {
          "output_type": "stream",
          "text": [
            "<class 'pandas.core.frame.DataFrame'>\n",
            "Int64Index: 297 entries, 0 to 301\n",
            "Data columns (total 14 columns):\n",
            "age         297 non-null int8\n",
            "sex         297 non-null int8\n",
            "cp          297 non-null int8\n",
            "trestbps    297 non-null int16\n",
            "chol        297 non-null int16\n",
            "fbs         297 non-null int8\n",
            "restecg     297 non-null int8\n",
            "thalach     297 non-null int16\n",
            "exang       297 non-null int8\n",
            "oldpeak     297 non-null float64\n",
            "slope       297 non-null int8\n",
            "ca          297 non-null int8\n",
            "thal        297 non-null int8\n",
            "target      297 non-null int8\n",
            "dtypes: float64(1), int16(3), int8(10)\n",
            "memory usage: 9.3 KB\n"
          ],
          "name": "stdout"
        }
      ]
    },
    {
      "cell_type": "code",
      "metadata": {
        "id": "u-NrSSMnuXGo",
        "colab_type": "code",
        "outputId": "7620b4ad-b23c-4e2d-b480-d8eccbd31116",
        "colab": {
          "base_uri": "https://localhost:8080/",
          "height": 298
        }
      },
      "source": [
        "#LINEAR DISCRIMINANT ANALYSIS\n",
        "\n",
        "from sklearn.discriminant_analysis import LinearDiscriminantAnalysis as LDA\n",
        "clf = LDA(n_components=1)\n",
        "\n",
        "y = df[\"target\"].values\n",
        "X = clf.fit(df[df.columns[:-1]].values, y).transform(df[df.columns[:-1]].values)\n",
        "X = X[:, 0]\n",
        "\n",
        "sns.swarmplot(X[y == 0], color=\"b\", label=\"without HD\")\n",
        "sns.swarmplot(X[y == 1], color=\"r\", label=\"with HD level 1\")\n",
        "sns.swarmplot(X[y == 2], color=\"y\", label=\"with HD level 2\")\n",
        "sns.swarmplot(X[y == 3], color=\"g\", label=\"with HD level 3\")\n",
        "sns.swarmplot(X[y == 4], color=\"k\", label=\"with HD level 4\")\n",
        "plt.title(\"LDA analysis of heart disease classification\")\n",
        "plt.legend()"
      ],
      "execution_count": 6,
      "outputs": [
        {
          "output_type": "execute_result",
          "data": {
            "text/plain": [
              "<matplotlib.legend.Legend at 0x7f0b320726a0>"
            ]
          },
          "metadata": {
            "tags": []
          },
          "execution_count": 6
        },
        {
          "output_type": "display_data",
          "data": {
            "image/png": "[encoded data removed]",
            "text/plain": [
              "<Figure size 432x288 with 1 Axes>"
            ]
          },
          "metadata": {
            "tags": []
          }
        }
      ]
    },
    {
      "cell_type": "code",
      "metadata": {
        "id": "fCKMqGcTtckI",
        "colab_type": "code",
        "outputId": "b5176bf2-dd86-484a-8c61-5234405e40e5",
        "colab": {
          "base_uri": "https://localhost:8080/",
          "height": 278
        }
      },
      "source": [
        "#Calculate correlations to get the more correlated variables with heart disease.\n",
        "\n",
        "corr = df.corr()['target'].abs().sort_values()\n",
        "corr"
      ],
      "execution_count": 7,
      "outputs": [
        {
          "output_type": "execute_result",
          "data": {
            "text/plain": [
              "fbs         0.049040\n",
              "chol        0.066448\n",
              "trestbps    0.159620\n",
              "restecg     0.184136\n",
              "age         0.222156\n",
              "sex         0.226797\n",
              "slope       0.374689\n",
              "exang       0.391613\n",
              "cp          0.404248\n",
              "thalach     0.420639\n",
              "oldpeak     0.501461\n",
              "thal        0.513377\n",
              "ca          0.521178\n",
              "target      1.000000\n",
              "Name: target, dtype: float64"
            ]
          },
          "metadata": {
            "tags": []
          },
          "execution_count": 7
        }
      ]
    },
    {
      "cell_type": "code",
      "metadata": {
        "id": "CFIgyWGAqYpM",
        "colab_type": "code",
        "outputId": "b5ae1e93-f2f0-439d-82a4-eefee4b60ed7",
        "colab": {
          "base_uri": "https://localhost:8080/",
          "height": 1000
        }
      },
      "source": [
        "#Count values to determine which of them are ENUM-LIKE FEATURES. Those will have to be hot-one encoded\n",
        "\n",
        "for col in columns:\n",
        "  col = df[col].value_counts()\n",
        "  print (col)"
      ],
      "execution_count": 8,
      "outputs": [
        {
          "output_type": "stream",
          "text": [
            "58    18\n",
            "57    17\n",
            "54    16\n",
            "59    14\n",
            "51    12\n",
            "60    12\n",
            "62    11\n",
            "44    11\n",
            "52    11\n",
            "56    11\n",
            "64    10\n",
            "41    10\n",
            "67     9\n",
            "63     9\n",
            "65     8\n",
            "61     8\n",
            "42     8\n",
            "55     8\n",
            "45     8\n",
            "46     7\n",
            "50     7\n",
            "43     7\n",
            "53     7\n",
            "66     7\n",
            "48     7\n",
            "47     5\n",
            "49     5\n",
            "39     4\n",
            "70     4\n",
            "35     4\n",
            "68     4\n",
            "69     3\n",
            "40     3\n",
            "71     3\n",
            "34     2\n",
            "37     2\n",
            "77     1\n",
            "38     1\n",
            "76     1\n",
            "74     1\n",
            "29     1\n",
            "Name: age, dtype: int64\n",
            "1    201\n",
            "0     96\n",
            "Name: sex, dtype: int64\n",
            "4    142\n",
            "3     83\n",
            "2     49\n",
            "1     23\n",
            "Name: cp, dtype: int64\n",
            "120    37\n",
            "130    36\n",
            "140    32\n",
            "110    19\n",
            "150    17\n",
            "160    11\n",
            "138    10\n",
            "125    10\n",
            "128    10\n",
            "112     9\n",
            "132     7\n",
            "118     7\n",
            "124     6\n",
            "135     6\n",
            "108     6\n",
            "145     5\n",
            "134     5\n",
            "152     5\n",
            "122     4\n",
            "170     4\n",
            "100     4\n",
            "115     3\n",
            "142     3\n",
            "105     3\n",
            "136     3\n",
            "126     3\n",
            "180     3\n",
            "102     2\n",
            "94      2\n",
            "144     2\n",
            "146     2\n",
            "178     2\n",
            "148     2\n",
            "129     1\n",
            "164     1\n",
            "101     1\n",
            "174     1\n",
            "104     1\n",
            "172     1\n",
            "106     1\n",
            "165     1\n",
            "114     1\n",
            "158     1\n",
            "192     1\n",
            "156     1\n",
            "117     1\n",
            "155     1\n",
            "154     1\n",
            "123     1\n",
            "200     1\n",
            "Name: trestbps, dtype: int64\n",
            "234    6\n",
            "197    6\n",
            "212    5\n",
            "269    5\n",
            "254    5\n",
            "      ..\n",
            "276    1\n",
            "278    1\n",
            "281    1\n",
            "284    1\n",
            "564    1\n",
            "Name: chol, Length: 152, dtype: int64\n",
            "0    254\n",
            "1     43\n",
            "Name: fbs, dtype: int64\n",
            "0    147\n",
            "2    146\n",
            "1      4\n",
            "Name: restecg, dtype: int64\n",
            "162    11\n",
            "160     9\n",
            "163     9\n",
            "152     8\n",
            "172     7\n",
            "       ..\n",
            "129     1\n",
            "128     1\n",
            "127     1\n",
            "124     1\n",
            "71      1\n",
            "Name: thalach, Length: 91, dtype: int64\n",
            "0    200\n",
            "1     97\n",
            "Name: exang, dtype: int64\n",
            "0.0    96\n",
            "1.2    17\n",
            "0.6    14\n",
            "1.0    13\n",
            "0.8    13\n",
            "1.4    13\n",
            "0.2    12\n",
            "1.6    11\n",
            "1.8    10\n",
            "2.0     9\n",
            "0.4     8\n",
            "0.1     6\n",
            "2.8     6\n",
            "2.6     6\n",
            "0.5     5\n",
            "3.0     5\n",
            "1.5     5\n",
            "1.9     5\n",
            "2.2     4\n",
            "3.6     4\n",
            "3.4     3\n",
            "0.3     3\n",
            "2.4     3\n",
            "0.9     3\n",
            "4.0     3\n",
            "4.2     2\n",
            "2.3     2\n",
            "3.2     2\n",
            "2.5     2\n",
            "1.1     2\n",
            "3.5     1\n",
            "1.3     1\n",
            "5.6     1\n",
            "0.7     1\n",
            "2.9     1\n",
            "3.1     1\n",
            "3.8     1\n",
            "2.1     1\n",
            "6.2     1\n",
            "4.4     1\n",
            "Name: oldpeak, dtype: int64\n",
            "1    139\n",
            "2    137\n",
            "3     21\n",
            "Name: slope, dtype: int64\n",
            "0    174\n",
            "1     65\n",
            "2     38\n",
            "3     20\n",
            "Name: ca, dtype: int64\n",
            "3    164\n",
            "7    115\n",
            "6     18\n",
            "Name: thal, dtype: int64\n",
            "0    160\n",
            "1     54\n",
            "3     35\n",
            "2     35\n",
            "4     13\n",
            "Name: target, dtype: int64\n"
          ],
          "name": "stdout"
        }
      ]
    },
    {
      "cell_type": "code",
      "metadata": {
        "id": "yhrxqKJ3vZmp",
        "colab_type": "code",
        "outputId": "4514790c-763d-49ff-e8b7-2a08b326d78c",
        "colab": {
          "base_uri": "https://localhost:8080/",
          "height": 298
        }
      },
      "source": [
        "##########################\n",
        "#PREPROCESSING OF THE DATA\n",
        "\n",
        "#Encoding the enum-like features.\n",
        "\n",
        "enum = {\n",
        "    'cp':4,\n",
        "    'thal':3,\n",
        "    'exang':2,\n",
        "    'restecg':3,\n",
        "    'ca':4\n",
        "}\n",
        "\n",
        "for feat in enum:\n",
        "  one_hot = pd.get_dummies(df[feat])\n",
        "  new_col = []\n",
        "  for i in range(enum[feat]):\n",
        "    new_col.append(str(feat)+'-'+str(i+1))\n",
        "  #print (new_col)\n",
        "  one_hot.columns = new_col\n",
        "  df = df.join(one_hot)\n",
        "  df.drop(feat, axis = 1)\n",
        "\n",
        "  \n",
        "#Look for outliers with principle component analysis.\n",
        "from sklearn.decomposition import PCA\n",
        "clf = PCA(n_components=2)\n",
        "data_cols = [col for col in df.columns if col != \"target\"]\n",
        "X = df[data_cols]\n",
        "y = df[\"target\"]\n",
        "X_trans = clf.fit(X, y).transform(X)\n",
        "sns.scatterplot(X_trans[y == 0][:, 0], X_trans[y == 0][:, 1], color=\"r\", label=\"without HD\")\n",
        "sns.scatterplot(X_trans[y == 1][:, 0], X_trans[y == 1][:, 1], color=\"b\", label=\"with HD-1\")\n",
        "sns.scatterplot(X_trans[y == 2][:, 0], X_trans[y == 2][:, 1], color=\"y\", label=\"with HD-2\")\n",
        "sns.scatterplot(X_trans[y == 3][:, 0], X_trans[y == 3][:, 1], color=\"g\", label=\"with HD-3\")\n",
        "sns.scatterplot(X_trans[y == 4][:, 0], X_trans[y == 4][:, 1], color=\"k\", label=\"with HD-4\")\n",
        "\n",
        "\n",
        "plt.title(\"PCA analysis of heart disease classification\")\n",
        "plt.legend()\n",
        "\n",
        "\n",
        "#Looking in the plot, we find outliers at X>150 and Y>50\n",
        "  \n"
      ],
      "execution_count": 9,
      "outputs": [
        {
          "output_type": "execute_result",
          "data": {
            "text/plain": [
              "<matplotlib.legend.Legend at 0x7f0b644fbe48>"
            ]
          },
          "metadata": {
            "tags": []
          },
          "execution_count": 9
        },
        {
          "output_type": "display_data",
          "data": {
            "image/png": "[encoded data removed]",
            "text/plain": [
              "<Figure size 432x288 with 1 Axes>"
            ]
          },
          "metadata": {
            "tags": []
          }
        }
      ]
    },
    {
      "cell_type": "code",
      "metadata": {
        "id": "OzZ8e4U8O30k",
        "colab_type": "code",
        "outputId": "70f32809-79b5-40c7-9e65-dc1a1134c2bb",
        "colab": {
          "base_uri": "https://localhost:8080/",
          "height": 69
        }
      },
      "source": [
        "#############################\n",
        "######CLASSIFIER MODELS######\n",
        "#############################\n",
        "\n",
        "######\n",
        "#LINEAR REGRESSION MODEL\n",
        "\n",
        "from sklearn.model_selection import train_test_split\n",
        "Features=df.drop(\"target\", axis=1).values\n",
        "x=Features\n",
        "y=df['target'].values#TargetLabel\n",
        "\n",
        "x_train,x_test,y_train,y_test = train_test_split(x,y,test_size=0.2,random_state=20)\n",
        "\n",
        "from sklearn.linear_model import LogisticRegression\n",
        "\n",
        "lrmodel=LogisticRegression()\n",
        "lrmodel.fit(x_train, y_train)\n",
        "\n",
        "predictedvalues = lrmodel.predict(x_test)\n",
        "\n",
        "from sklearn.metrics import mean_squared_error\n",
        "lrmodelrmse = np.sqrt(mean_squared_error(predictedvalues, y_test))\n",
        "\n",
        "print(\"RMSE value for Linear regression is\", lrmodelrmse)\n",
        "\n",
        "print(lrmodel.score(x_train,y_train))\n",
        "print(lrmodel.score(x_test,y_test))"
      ],
      "execution_count": 10,
      "outputs": [
        {
          "output_type": "stream",
          "text": [
            "RMSE value for Linear regression is 1.27148207485071\n",
            "0.7046413502109705\n",
            "0.5666666666666667\n"
          ],
          "name": "stdout"
        }
      ]
    },
    {
      "cell_type": "code",
      "metadata": {
        "id": "RexAL6TCUIAD",
        "colab_type": "code",
        "outputId": "9452fd5f-128f-454d-c5cc-032370412a59",
        "colab": {
          "base_uri": "https://localhost:8080/",
          "height": 52
        }
      },
      "source": [
        "############\n",
        "#SVC MODEL\n",
        "\n",
        "from sklearn.svm import SVC\n",
        "svm=SVC(kernel=\"linear\",C=0.025,random_state=101)\n",
        "svm.fit(x_train,y_train)\n",
        "y_pred=svm.predict(x_test)\n",
        "\n",
        "from sklearn.metrics import mean_squared_error\n",
        "svmmodelrmse = np.sqrt(mean_squared_error(y_pred, y_test))\n",
        "\n",
        "from sklearn.metrics import accuracy_score\n",
        "\n",
        "print(\"RMSE value for SVM is\", svmmodelrmse)\n",
        "\n",
        "print(accuracy_score(y_test,y_pred))"
      ],
      "execution_count": 11,
      "outputs": [
        {
          "output_type": "stream",
          "text": [
            "RMSE value for SVM is 1.0723805294763609\n",
            "0.6333333333333333\n"
          ],
          "name": "stdout"
        }
      ]
    },
    {
      "cell_type": "code",
      "metadata": {
        "id": "oq4iYgIGzqwP",
        "colab_type": "code",
        "outputId": "7e948b8f-ccb4-46df-9ea0-b3c0eebda0c4",
        "colab": {
          "base_uri": "https://localhost:8080/",
          "height": 69
        }
      },
      "source": [
        "##################\n",
        "#NAIVE BAYES MODEL\n",
        "\n",
        "from sklearn.naive_bayes import GaussianNB\n",
        "nb = GaussianNB()\n",
        "nb.fit(x_train, y_train)\n",
        "y_pred=nb.predict(x_test)\n",
        "\n",
        "from sklearn.metrics import mean_squared_error\n",
        "lrmodelrmse = np.sqrt(mean_squared_error(predictedvalues, y_test))\n",
        "\n",
        "print(\"Naive bayes data is\", lrmodelrmse)\n",
        "\n",
        "print(nb.score(x_train,y_train), \"trained data\")\n",
        "print(nb.score(x_test,y_test),\"accuracy\")"
      ],
      "execution_count": 12,
      "outputs": [
        {
          "output_type": "stream",
          "text": [
            "Naive bayes data is 1.27148207485071\n",
            "0.4641350210970464 trained data\n",
            "0.35 accuracy\n"
          ],
          "name": "stdout"
        }
      ]
    },
    {
      "cell_type": "code",
      "metadata": {
        "id": "Yl7iWjTq0SmG",
        "colab_type": "code",
        "outputId": "f7062db7-9ca8-4ef7-98b8-7c7af3e2380c",
        "colab": {
          "base_uri": "https://localhost:8080/",
          "height": 69
        }
      },
      "source": [
        "############################\n",
        "#DECISION TREE CLASSIFIER\n",
        "\n",
        "from sklearn.tree import DecisionTreeClassifier\n",
        "dtree = DecisionTreeClassifier(max_depth=10, random_state=101,max_features = None, min_samples_leaf=15)\n",
        "dtree.fit(x_train, y_train)\n",
        "y_pred=dtree.predict(x_test)\n",
        "\n",
        "\n",
        "from sklearn.metrics import mean_squared_error\n",
        "lrmodelrmse = np.sqrt(mean_squared_error(predictedvalues, y_test))\n",
        "\n",
        "print(\"Decision Tree data is\", lrmodelrmse)\n",
        "\n",
        "print(dtree.score(x_train,y_train), \"trained data\")\n",
        "print(dtree.score(x_test,y_test),\"accuracy\")\n"
      ],
      "execution_count": 13,
      "outputs": [
        {
          "output_type": "stream",
          "text": [
            "Decision Tree data is 1.27148207485071\n",
            "0.6624472573839663 trained data\n",
            "0.6 accuracy\n"
          ],
          "name": "stdout"
        }
      ]
    },
    {
      "cell_type": "code",
      "metadata": {
        "id": "Du7qyw6I0cxu",
        "colab_type": "code",
        "outputId": "b42724e5-b494-41e9-dc0d-2f105d53717a",
        "colab": {
          "base_uri": "https://localhost:8080/",
          "height": 69
        }
      },
      "source": [
        "#########################\n",
        "#RANDOM FOREST MODEL 1\n",
        "\n",
        "from sklearn.ensemble import RandomForestClassifier\n",
        "rfm= RandomForestClassifier (n_estimators=70, oob_score=True, n_jobs=-1, random_state=101,max_features=None,min_samples_leaf=30)\n",
        "rfm.fit(x_train,y_train)\n",
        "y_pred=rfm.predict(x_test)\n",
        "\n",
        "from sklearn.metrics import mean_squared_error\n",
        "lrmodelrmse = np.sqrt(mean_squared_error(predictedvalues, y_test))\n",
        "\n",
        "print(\"RandomForestClassifier is\", lrmodelrmse)\n",
        "\n",
        "print(rfm.score(x_train,y_train), \"trained data\")\n",
        "print(rfm.score(x_test,y_test),\"accuracy\")"
      ],
      "execution_count": 14,
      "outputs": [
        {
          "output_type": "stream",
          "text": [
            "RandomForestClassifier is 1.27148207485071\n",
            "0.620253164556962 trained data\n",
            "0.55 accuracy\n"
          ],
          "name": "stdout"
        }
      ]
    },
    {
      "cell_type": "code",
      "metadata": {
        "id": "rrD96Adj0iTs",
        "colab_type": "code",
        "outputId": "9865e739-ed68-4517-d8b4-b846f71cb49b",
        "colab": {
          "base_uri": "https://localhost:8080/",
          "height": 69
        }
      },
      "source": [
        "################################\n",
        "#K-NEIGHBORS CLASSIFIER\n",
        "\n",
        "from sklearn.neighbors import KNeighborsClassifier\n",
        "knn= KNeighborsClassifier(n_neighbors=15)\n",
        "knn.fit(x_train,y_train)\n",
        "y_pred=knn.predict(x_test)\n",
        "\n",
        "from sklearn.metrics import mean_squared_error\n",
        "lrmodelrmse = np.sqrt(mean_squared_error(predictedvalues, y_test))\n",
        "\n",
        "print(\"RandomForestClassifier is\", lrmodelrmse)\n",
        "\n",
        "print(knn.score(x_train,y_train), \"trained data\")\n",
        "print(knn.score(x_test,y_test),\"accuracy\")"
      ],
      "execution_count": 15,
      "outputs": [
        {
          "output_type": "stream",
          "text": [
            "RandomForestClassifier is 1.27148207485071\n",
            "0.5569620253164557 trained data\n",
            "0.5666666666666667 accuracy\n"
          ],
          "name": "stdout"
        }
      ]
    }
  ]
}