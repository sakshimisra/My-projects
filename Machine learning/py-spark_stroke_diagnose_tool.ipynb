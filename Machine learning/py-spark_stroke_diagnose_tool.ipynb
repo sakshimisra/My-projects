{
  "nbformat": 4,
  "nbformat_minor": 0,
  "metadata": {
    "colab": {
      "name": "project3",
      "provenance": [],
      "collapsed_sections": []
    },
    "kernelspec": {
      "name": "python3",
      "display_name": "Python 3"
    }
  },
  "cells": [
    {
      "cell_type": "code",
      "metadata": {
        "id": "g3LZUhXzaQwd",
        "colab_type": "code",
        "colab": {}
      },
      "source": [
        "!apt-get install openjdk-8-jdk-headless -qq > /dev/null\n",
        "!wget -q http://www-eu.apache.org/dist/spark/spark-2.4.4/spark-2.4.4-bin-hadoop2.7.tgz\n",
        "!tar xf spark-2.4.4-bin-hadoop2.7.tgz\n",
        "!pip install -q findspark"
      ],
      "execution_count": 0,
      "outputs": []
    },
    {
      "cell_type": "code",
      "metadata": {
        "id": "5XlId4tZaZgP",
        "colab_type": "code",
        "colab": {}
      },
      "source": [
        "import os\n",
        "os.environ[\"JAVA_HOME\"] = \"/usr/lib/jvm/java-8-openjdk-amd64\"\n",
        "os.environ[\"SPARK_HOME\"] = \"/content/spark-2.4.4-bin-hadoop2.7\""
      ],
      "execution_count": 0,
      "outputs": []
    },
    {
      "cell_type": "code",
      "metadata": {
        "id": "oyWXBU8rae9j",
        "colab_type": "code",
        "colab": {}
      },
      "source": [
        "import findspark\n",
        "findspark.init(\"spark-2.4.4-bin-hadoop2.7\") # SPARK_HOME\n",
        "from pyspark.sql import SparkSession\n",
        "spark = SparkSession.builder.master(\"local[*]\").getOrCreate()\n",
        "import pyspark.sql as sparksql"
      ],
      "execution_count": 0,
      "outputs": []
    },
    {
      "cell_type": "code",
      "metadata": {
        "id": "TpilrCAmaibQ",
        "colab_type": "code",
        "colab": {}
      },
      "source": [
        "sc = spark.sparkContext"
      ],
      "execution_count": 0,
      "outputs": []
    },
    {
      "cell_type": "code",
      "metadata": {
        "id": "o6xsiQO_ZjlC",
        "colab_type": "code",
        "colab": {}
      },
      "source": [
        "import numpy as np # linear algebra\n",
        "import pandas as pd # data processing, CSV file I/O (e.g. pd.read_csv)\n",
        "from pyspark.sql import SparkSession\n",
        "import pyspark.sql as sparksql\n",
        "spark = SparkSession.builder.appName('stroke').getOrCreate()\n"
      ],
      "execution_count": 0,
      "outputs": []
    },
    {
      "cell_type": "code",
      "metadata": {
        "id": "apKQd3w7sSOp",
        "colab_type": "code",
        "colab": {}
      },
      "source": [
        "#DATA LOADING.\n",
        "#The files should be uploaded to '/content/'.\n",
        "\n",
        "train = spark.read.csv('/content/train_2v.csv', inferSchema=True,header=True)\n",
        "test = spark.read.csv('/content/test_2v.csv', inferSchema=True,header=True)"
      ],
      "execution_count": 0,
      "outputs": []
    },
    {
      "cell_type": "code",
      "metadata": {
        "id": "Zt6C7OsbN3JR",
        "colab_type": "code",
        "outputId": "8e67b7f7-8eaf-4e5d-94ff-0950d9b15c98",
        "colab": {
          "base_uri": "https://localhost:8080/",
          "height": 252
        }
      },
      "source": [
        "\n",
        "#Here are the different features of the dataset.\n",
        "train.printSchema()"
      ],
      "execution_count": 0,
      "outputs": [
        {
          "output_type": "stream",
          "text": [
            "root\n",
            " |-- id: integer (nullable = true)\n",
            " |-- gender: string (nullable = true)\n",
            " |-- age: double (nullable = true)\n",
            " |-- hypertension: integer (nullable = true)\n",
            " |-- heart_disease: integer (nullable = true)\n",
            " |-- ever_married: string (nullable = true)\n",
            " |-- work_type: string (nullable = true)\n",
            " |-- Residence_type: string (nullable = true)\n",
            " |-- avg_glucose_level: double (nullable = true)\n",
            " |-- bmi: double (nullable = true)\n",
            " |-- smoking_status: string (nullable = true)\n",
            " |-- stroke: integer (nullable = true)\n",
            "\n"
          ],
          "name": "stdout"
        }
      ]
    },
    {
      "cell_type": "code",
      "metadata": {
        "id": "19U5TXh9OID5",
        "colab_type": "code",
        "outputId": "61b51a13-6603-4410-e6ca-64c011cd59d2",
        "colab": {
          "base_uri": "https://localhost:8080/",
          "height": 151
        }
      },
      "source": [
        "\n",
        "train.show(2,truncate= True)"
      ],
      "execution_count": 0,
      "outputs": [
        {
          "output_type": "stream",
          "text": [
            "+-----+------+----+------------+-------------+------------+---------+--------------+-----------------+----+--------------+------+\n",
            "|   id|gender| age|hypertension|heart_disease|ever_married|work_type|Residence_type|avg_glucose_level| bmi|smoking_status|stroke|\n",
            "+-----+------+----+------------+-------------+------------+---------+--------------+-----------------+----+--------------+------+\n",
            "|30669|  Male| 3.0|           0|            0|          No| children|         Rural|            95.12|18.0|          null|     0|\n",
            "|30468|  Male|58.0|           1|            0|         Yes|  Private|         Urban|            87.96|39.2|  never smoked|     0|\n",
            "+-----+------+----+------------+-------------+------------+---------+--------------+-----------------+----+--------------+------+\n",
            "only showing top 2 rows\n",
            "\n"
          ],
          "name": "stdout"
        }
      ]
    },
    {
      "cell_type": "code",
      "metadata": {
        "id": "jx9RjA9nau8T",
        "colab_type": "code",
        "colab": {}
      },
      "source": [
        "#dropping id because it has no effect on label\n",
        "#train = train.drop('id')\n",
        "#train_data=train.toPandas().head(5)"
      ],
      "execution_count": 0,
      "outputs": []
    },
    {
      "cell_type": "code",
      "metadata": {
        "id": "BiNqrCBBMJg5",
        "colab_type": "code",
        "colab": {}
      },
      "source": [
        "#test= test.drop('id')\n",
        "#test_df= test.toPandas().head(5)"
      ],
      "execution_count": 0,
      "outputs": []
    },
    {
      "cell_type": "code",
      "metadata": {
        "id": "Lz2BK8WrOOYh",
        "colab_type": "code",
        "outputId": "706edf6f-2a28-4571-c583-de5af6899018",
        "colab": {
          "base_uri": "https://localhost:8080/",
          "height": 34
        }
      },
      "source": [
        "#count no of rows in each group\n",
        "train.count(),test.count()"
      ],
      "execution_count": 0,
      "outputs": [
        {
          "output_type": "execute_result",
          "data": {
            "text/plain": [
              "(43400, 18601)"
            ]
          },
          "metadata": {
            "tags": []
          },
          "execution_count": 58
        }
      ]
    },
    {
      "cell_type": "code",
      "metadata": {
        "id": "xAjUjlc2OZO1",
        "colab_type": "code",
        "outputId": "a1f1ce14-8542-4be4-ded6-d5f2896df22d",
        "colab": {
          "base_uri": "https://localhost:8080/",
          "height": 34
        }
      },
      "source": [
        "#no. of columns, stroke column is not there in test data, as it is the dataset that will be used for the testing of \n",
        "#the predictor and the classifier.\n",
        "len(train.columns),len(test.columns)"
      ],
      "execution_count": 0,
      "outputs": [
        {
          "output_type": "execute_result",
          "data": {
            "text/plain": [
              "(12, 11)"
            ]
          },
          "metadata": {
            "tags": []
          },
          "execution_count": 59
        }
      ]
    },
    {
      "cell_type": "code",
      "metadata": {
        "id": "4L58qoRybGZ2",
        "colab_type": "code",
        "outputId": "d873592c-ab0f-4079-f93a-5a1f5ae84bc0",
        "colab": {
          "base_uri": "https://localhost:8080/",
          "height": 390
        }
      },
      "source": [
        "#Summary statistics information of the features, for categorical values, no statistic information like mean,stddev is showing\n",
        "train.describe().show(),test.describe().show()"
      ],
      "execution_count": 0,
      "outputs": [
        {
          "output_type": "stream",
          "text": [
            "+-------+-----------------+------+------------------+-------------------+-------------------+------------+---------+--------------+------------------+------------------+---------------+-------------------+\n",
            "|summary|               id|gender|               age|       hypertension|      heart_disease|ever_married|work_type|Residence_type| avg_glucose_level|               bmi| smoking_status|             stroke|\n",
            "+-------+-----------------+------+------------------+-------------------+-------------------+------------+---------+--------------+------------------+------------------+---------------+-------------------+\n",
            "|  count|            43400| 43400|             43400|              43400|              43400|       43400|    43400|         43400|             43400|             41938|          30108|              43400|\n",
            "|   mean|36326.14235023042|  null| 42.21789400921646|0.09357142857142857|0.04751152073732719|        null|     null|          null|104.48274999999916|28.605038390004545|           null|0.01804147465437788|\n",
            "| stddev|21072.13487918279|  null|22.519648680503554|  0.291234906309397|0.21273274050209726|        null|     null|          null|  43.1117509512961| 7.770020497238766|           null|0.13310292280179215|\n",
            "|    min|                1|Female|              0.08|                  0|                  0|          No| Govt_job|         Rural|              55.0|              10.1|formerly smoked|                  0|\n",
            "|    max|            72943| Other|              82.0|                  1|                  1|         Yes| children|         Urban|            291.05|              97.6|         smokes|                  1|\n",
            "+-------+-----------------+------+------------------+-------------------+-------------------+------------+---------+--------------+------------------+------------------+---------------+-------------------+\n",
            "\n",
            "+-------+------------------+------+------------------+-------------------+--------------------+------------+---------+--------------+------------------+------------------+---------------+\n",
            "|summary|                id|gender|               age|       hypertension|       heart_disease|ever_married|work_type|Residence_type| avg_glucose_level|               bmi| smoking_status|\n",
            "+-------+------------------+------+------------------+-------------------+--------------------+------------+---------+--------------+------------------+------------------+---------------+\n",
            "|  count|             18601| 18601|             18601|              18601|               18601|       18601|    18601|         18601|             18601|             18010|          12850|\n",
            "|   mean| 36747.36804472878|  null|42.056504489006024|0.09316703403042847|0.048061932154185256|        null|     null|          null| 104.3863593355191|28.545324819544625|           null|\n",
            "| stddev|21053.151123778684|  null|22.528017622414048|0.29067418204733125| 0.21390288127048365|        null|     null|          null|42.606714400087824| 7.757091805747331|           null|\n",
            "|    min|                 2|Female|              0.08|                  0|                   0|          No| Govt_job|         Rural|              55.0|              10.2|formerly smoked|\n",
            "|    max|             72942| Other|              82.0|                  1|                   1|         Yes| children|         Urban|            275.72|              88.3|         smokes|\n",
            "+-------+------------------+------+------------------+-------------------+--------------------+------------+---------+--------------+------------------+------------------+---------------+\n",
            "\n"
          ],
          "name": "stdout"
        },
        {
          "output_type": "execute_result",
          "data": {
            "text/plain": [
              "(None, None)"
            ]
          },
          "metadata": {
            "tags": []
          },
          "execution_count": 60
        }
      ]
    },
    {
      "cell_type": "code",
      "metadata": {
        "id": "L6QkbVivchaC",
        "colab_type": "code",
        "outputId": "aa035b36-1600-4e4c-c303-3457f2b86478",
        "colab": {
          "base_uri": "https://localhost:8080/",
          "height": 134
        }
      },
      "source": [
        "train.groupBy('stroke').count().show() #This is an Imbalanced dataset, where the number of observations belonging to \n",
        "#one class is significantly lower than those belonging to the other classes. \n",
        "#In this case, the predictive model could be biased and inaccurate"
      ],
      "execution_count": 0,
      "outputs": [
        {
          "output_type": "stream",
          "text": [
            "+------+-----+\n",
            "|stroke|count|\n",
            "+------+-----+\n",
            "|     1|  783|\n",
            "|     0|42617|\n",
            "+------+-----+\n",
            "\n"
          ],
          "name": "stdout"
        }
      ]
    },
    {
      "cell_type": "code",
      "metadata": {
        "id": "EvEcfEC2cRks",
        "colab_type": "code",
        "colab": {}
      },
      "source": [
        "train.createOrReplaceTempView('table')"
      ],
      "execution_count": 0,
      "outputs": []
    },
    {
      "cell_type": "markdown",
      "metadata": {
        "id": "ehWacFUFhQyV",
        "colab_type": "text"
      },
      "source": [
        "VISUALIZATION"
      ]
    },
    {
      "cell_type": "code",
      "metadata": {
        "id": "Lvfwa82Yc5qy",
        "colab_type": "code",
        "outputId": "451c5d68-de28-4b4f-a632-d1ef5d07146d",
        "colab": {
          "base_uri": "https://localhost:8080/",
          "height": 336
        }
      },
      "source": [
        "# sql query to find the number of people in specific work_type who have had stroke and not\n",
        "spark.sql(\"SELECT work_type, COUNT(work_type) as work_type_count FROM table WHERE stroke == 1 GROUP BY work_type ORDER BY COUNT(work_type) DESC\").show()\n",
        "spark.sql(\"SELECT work_type, COUNT(work_type) as work_type_count FROM table WHERE stroke == 0 GROUP BY work_type ORDER BY COUNT(work_type) DESC\").show()"
      ],
      "execution_count": 0,
      "outputs": [
        {
          "output_type": "stream",
          "text": [
            "+-------------+---------------+\n",
            "|    work_type|work_type_count|\n",
            "+-------------+---------------+\n",
            "|      Private|            441|\n",
            "|Self-employed|            251|\n",
            "|     Govt_job|             89|\n",
            "|     children|              2|\n",
            "+-------------+---------------+\n",
            "\n",
            "+-------------+---------------+\n",
            "|    work_type|work_type_count|\n",
            "+-------------+---------------+\n",
            "|      Private|          24393|\n",
            "|Self-employed|           6542|\n",
            "|     children|           6154|\n",
            "|     Govt_job|           5351|\n",
            "| Never_worked|            177|\n",
            "+-------------+---------------+\n",
            "\n"
          ],
          "name": "stdout"
        }
      ]
    },
    {
      "cell_type": "code",
      "metadata": {
        "id": "8ZPaP_6ac_zS",
        "colab_type": "code",
        "outputId": "86859221-fb05-45a8-9e95-2c0c2646cb2a",
        "colab": {
          "base_uri": "https://localhost:8080/",
          "height": 218
        }
      },
      "source": [
        "#Here we check if it is related to gender.\n",
        "spark.sql(\"SELECT gender, COUNT(gender) as gender_count, COUNT(gender)*100/(SELECT COUNT(gender) FROM table WHERE gender == 'Male') as percentage FROM table WHERE stroke== 1 AND gender = 'Male' GROUP BY gender\").show()\n",
        "spark.sql(\"SELECT gender, COUNT(gender) as gender_count, COUNT(gender)*100/(SELECT COUNT(gender) FROM table WHERE gender == 'Female') as percentage FROM table WHERE stroke== 1 AND gender = 'Female' GROUP BY gender\").show()\n",
        "\n",
        "#We obtain that of all the data; 1.98% of males had a stroke and 1.68% of females had a stroke"
      ],
      "execution_count": 0,
      "outputs": [
        {
          "output_type": "stream",
          "text": [
            "+------+------------+------------------+\n",
            "|gender|gender_count|        percentage|\n",
            "+------+------------+------------------+\n",
            "|  Male|         352|1.9860076732114647|\n",
            "+------+------------+------------------+\n",
            "\n",
            "+------+------------+------------------+\n",
            "|gender|gender_count|        percentage|\n",
            "+------+------------+------------------+\n",
            "|Female|         431|1.6793298266121177|\n",
            "+------+------------+------------------+\n",
            "\n"
          ],
          "name": "stdout"
        }
      ]
    },
    {
      "cell_type": "code",
      "metadata": {
        "id": "3hMIW6BjdELU",
        "colab_type": "code",
        "outputId": "e98e3f26-bd23-48d3-e480-d6deb31fb842",
        "colab": {
          "base_uri": "https://localhost:8080/",
          "height": 118
        }
      },
      "source": [
        "#We check how many people that had a stroke are over 50 years old\n",
        "spark.sql(\"SELECT COUNT(age)*100/(SELECT COUNT(age) FROM table WHERE stroke ==1) as percentage FROM table WHERE stroke == 1 AND age>=50\").show()\n"
      ],
      "execution_count": 0,
      "outputs": [
        {
          "output_type": "stream",
          "text": [
            "+-----------------+\n",
            "|       percentage|\n",
            "+-----------------+\n",
            "|91.57088122605364|\n",
            "+-----------------+\n",
            "\n"
          ],
          "name": "stdout"
        }
      ]
    },
    {
      "cell_type": "markdown",
      "metadata": {
        "id": "LQbT0vbpdNmb",
        "colab_type": "text"
      },
      "source": [
        "Cleaning up training data"
      ]
    },
    {
      "cell_type": "code",
      "metadata": {
        "id": "-wnSPoAidOd-",
        "colab_type": "code",
        "outputId": "471e743f-ef6b-446d-cc3f-d367979d1d99",
        "colab": {
          "base_uri": "https://localhost:8080/",
          "height": 205
        }
      },
      "source": [
        "train.describe().show()"
      ],
      "execution_count": 0,
      "outputs": [
        {
          "output_type": "stream",
          "text": [
            "+-------+-----------------+------+------------------+-------------------+-------------------+------------+---------+--------------+------------------+------------------+---------------+-------------------+\n",
            "|summary|               id|gender|               age|       hypertension|      heart_disease|ever_married|work_type|Residence_type| avg_glucose_level|               bmi| smoking_status|             stroke|\n",
            "+-------+-----------------+------+------------------+-------------------+-------------------+------------+---------+--------------+------------------+------------------+---------------+-------------------+\n",
            "|  count|            43400| 43400|             43400|              43400|              43400|       43400|    43400|         43400|             43400|             41938|          30108|              43400|\n",
            "|   mean|36326.14235023042|  null| 42.21789400921646|0.09357142857142857|0.04751152073732719|        null|     null|          null|104.48274999999916|28.605038390004545|           null|0.01804147465437788|\n",
            "| stddev|21072.13487918279|  null|22.519648680503554|  0.291234906309397|0.21273274050209726|        null|     null|          null|  43.1117509512961| 7.770020497238766|           null|0.13310292280179215|\n",
            "|    min|                1|Female|              0.08|                  0|                  0|          No| Govt_job|         Rural|              55.0|              10.1|formerly smoked|                  0|\n",
            "|    max|            72943| Other|              82.0|                  1|                  1|         Yes| children|         Urban|            291.05|              97.6|         smokes|                  1|\n",
            "+-------+-----------------+------+------------------+-------------------+-------------------+------------+---------+--------------+------------------+------------------+---------------+-------------------+\n",
            "\n"
          ],
          "name": "stdout"
        }
      ]
    },
    {
      "cell_type": "markdown",
      "metadata": {
        "id": "bzltWOH3dZej",
        "colab_type": "text"
      },
      "source": [
        "IMPUTATION\n",
        "\n",
        "Here we see that there are few missing values in smoking_status and bmi column\n",
        "Also there are few categorical data (gender, ever_married, work_type, Residence_type, smoking_status which we need to covert into one hot encoding"
      ]
    },
    {
      "cell_type": "code",
      "metadata": {
        "id": "iEmre-RAdfd5",
        "colab_type": "code",
        "colab": {}
      },
      "source": [
        "# fill in missing values for smoking status\n",
        "# As this is categorical data, we will add one data type \"No Info\" for the missing one\n",
        "train_f = train.na.fill('No Info', subset=['smoking_status'])\n",
        "test_f = test.na.fill('No Info', subset=['smoking_status'])"
      ],
      "execution_count": 0,
      "outputs": []
    },
    {
      "cell_type": "code",
      "metadata": {
        "id": "aymMr1MldV5V",
        "colab_type": "code",
        "colab": {}
      },
      "source": [
        "# fill in miss values for bmi \n",
        "# as this is numecial data , we will simple fill the missing values with mean\n",
        "from pyspark.sql.functions import mean\n",
        "mean = train_f.select(mean(train_f['bmi'])).collect()\n",
        "mean_bmi = mean[0][0]\n",
        "train_f = train_f.na.fill(mean_bmi,['bmi'])\n",
        "test_f = test_f.na.fill(mean_bmi,['bmi'])"
      ],
      "execution_count": 0,
      "outputs": []
    },
    {
      "cell_type": "code",
      "metadata": {
        "id": "Ec5wLvM8d5WS",
        "colab_type": "code",
        "outputId": "311b5725-dafa-485d-b6fa-7e45b6b8493d",
        "colab": {
          "base_uri": "https://localhost:8080/",
          "height": 205
        }
      },
      "source": [
        "train_f.describe().show()"
      ],
      "execution_count": 0,
      "outputs": [
        {
          "output_type": "stream",
          "text": [
            "+-------+-----------------+------+------------------+-------------------+-------------------+------------+---------+--------------+------------------+------------------+--------------+-------------------+\n",
            "|summary|               id|gender|               age|       hypertension|      heart_disease|ever_married|work_type|Residence_type| avg_glucose_level|               bmi|smoking_status|             stroke|\n",
            "+-------+-----------------+------+------------------+-------------------+-------------------+------------+---------+--------------+------------------+------------------+--------------+-------------------+\n",
            "|  count|            43400| 43400|             43400|              43400|              43400|       43400|    43400|         43400|             43400|             43400|         43400|              43400|\n",
            "|   mean|36326.14235023042|  null| 42.21789400921646|0.09357142857142857|0.04751152073732719|        null|     null|          null|104.48274999999916|28.605038390005145|          null|0.01804147465437788|\n",
            "| stddev|21072.13487918279|  null|22.519648680503554|  0.291234906309397|0.21273274050209726|        null|     null|          null|  43.1117509512961| 7.638023372051845|          null|0.13310292280179215|\n",
            "|    min|                1|Female|              0.08|                  0|                  0|          No| Govt_job|         Rural|              55.0|              10.1|       No Info|                  0|\n",
            "|    max|            72943| Other|              82.0|                  1|                  1|         Yes| children|         Urban|            291.05|              97.6|        smokes|                  1|\n",
            "+-------+-----------------+------+------------------+-------------------+-------------------+------------+---------+--------------+------------------+------------------+--------------+-------------------+\n",
            "\n"
          ],
          "name": "stdout"
        }
      ]
    },
    {
      "cell_type": "code",
      "metadata": {
        "id": "x5IFbdz0vFoW",
        "colab_type": "code",
        "colab": {}
      },
      "source": [
        "# indexing all categorical columns in the dataset\n",
        "from pyspark.ml.feature import StringIndexer\n",
        "indexer1 = StringIndexer(inputCol=\"gender\", outputCol=\"genderIndex\")\n",
        "indexer2 = StringIndexer(inputCol=\"ever_married\", outputCol=\"ever_marriedIndex\")\n",
        "indexer3 = StringIndexer(inputCol=\"work_type\", outputCol=\"work_typeIndex\")\n",
        "indexer4 = StringIndexer(inputCol=\"Residence_type\", outputCol=\"Residence_typeIndex\")\n",
        "indexer5 = StringIndexer(inputCol=\"smoking_status\", outputCol=\"smoking_statusIndex\")"
      ],
      "execution_count": 0,
      "outputs": []
    },
    {
      "cell_type": "code",
      "metadata": {
        "id": "5QszsC27vIrA",
        "colab_type": "code",
        "colab": {}
      },
      "source": [
        "#Doing one hot encoding of indexed data\n",
        "from pyspark.ml.feature import OneHotEncoderEstimator\n",
        "encoder = OneHotEncoderEstimator(inputCols=[\"genderIndex\",\"ever_marriedIndex\",\"work_typeIndex\",\"Residence_typeIndex\",\"smoking_statusIndex\"],\n",
        "                                 outputCols=[\"genderVec\",\"ever_marriedVec\",\"work_typeVec\",\"Residence_typeVec\",\"smoking_statusVec\"])"
      ],
      "execution_count": 0,
      "outputs": []
    },
    {
      "cell_type": "code",
      "metadata": {
        "id": "4AxnEuNCvMpA",
        "colab_type": "code",
        "colab": {}
      },
      "source": [
        "#vector assembler\n",
        "from pyspark.ml.feature import VectorAssembler\n",
        "assembler = VectorAssembler(inputCols=['id','genderVec',\n",
        " 'age',\n",
        " 'hypertension',\n",
        " 'heart_disease',\n",
        " 'ever_marriedVec',\n",
        " 'work_typeVec',\n",
        " 'Residence_typeVec',\n",
        " 'avg_glucose_level',\n",
        " 'bmi',\n",
        " 'smoking_statusVec'],outputCol='features')\n"
      ],
      "execution_count": 0,
      "outputs": []
    },
    {
      "cell_type": "markdown",
      "metadata": {
        "id": "j7wUCR4yrxPz",
        "colab_type": "text"
      },
      "source": [
        "Decision tree classifier and predictor"
      ]
    },
    {
      "cell_type": "code",
      "metadata": {
        "id": "K0epE33_ryHT",
        "colab_type": "code",
        "colab": {}
      },
      "source": [
        "from pyspark.ml.classification import DecisionTreeClassifier\n",
        "dtc = DecisionTreeClassifier(labelCol='stroke',featuresCol='features')"
      ],
      "execution_count": 0,
      "outputs": []
    },
    {
      "cell_type": "code",
      "metadata": {
        "id": "Uf1HQadstdm2",
        "colab_type": "code",
        "colab": {}
      },
      "source": [
        "#importing pipelines to distribute the task\n",
        "from pyspark.ml import Pipeline\n",
        "pipeline = Pipeline(stages=[indexer1, indexer2, indexer3, indexer4, indexer5, encoder, assembler, dtc])"
      ],
      "execution_count": 0,
      "outputs": []
    },
    {
      "cell_type": "code",
      "metadata": {
        "id": "Cp4QDY8etPVi",
        "colab_type": "code",
        "colab": {}
      },
      "source": [
        "# splitting train data into training and validation data\n",
        "train_data,val_data = train_f.randomSplit([0.7,0.3])\n",
        "\n",
        "# training model pipeline with data\n",
        "model = pipeline.fit(train_data)"
      ],
      "execution_count": 0,
      "outputs": []
    },
    {
      "cell_type": "code",
      "metadata": {
        "id": "C94gb1qktjjO",
        "colab_type": "code",
        "outputId": "546dd4a2-f709-4254-f6af-ed46bc210f9b",
        "colab": {
          "base_uri": "https://localhost:8080/",
          "height": 202
        }
      },
      "source": [
        "# making prediction on model with validation data\n",
        "dtc_predictions = model.transform(val_data)\n",
        "\n",
        "# Select example rows to display.\n",
        "dtc_predictions.select(\"prediction\",\"probability\", \"stroke\", \"features\").show(5)"
      ],
      "execution_count": 0,
      "outputs": [
        {
          "output_type": "stream",
          "text": [
            "+----------+--------------------+------+--------------------+\n",
            "|prediction|         probability|stroke|            features|\n",
            "+----------+--------------------+------+--------------------+\n",
            "|       0.0|[0.86322869955156...|     0|(17,[0,1,3,5,6,8,...|\n",
            "|       0.0|[0.99202921313020...|     0|(17,[0,1,3,7,11,1...|\n",
            "|       0.0|[0.99202921313020...|     0|(17,[0,1,3,6,7,11...|\n",
            "|       0.0|[0.99202921313020...|     0|(17,[0,1,3,6,8,11...|\n",
            "|       0.0|[0.99202921313020...|     0|(17,[0,1,3,6,7,12...|\n",
            "+----------+--------------------+------+--------------------+\n",
            "only showing top 5 rows\n",
            "\n"
          ],
          "name": "stdout"
        }
      ]
    },
    {
      "cell_type": "code",
      "metadata": {
        "id": "6bZvk1vK-gg-",
        "colab_type": "code",
        "outputId": "20c3e6bc-b800-418b-8ed1-123cef2750aa",
        "colab": {
          "base_uri": "https://localhost:8080/",
          "height": 34
        }
      },
      "source": [
        "from pyspark.ml.evaluation import MulticlassClassificationEvaluator\n",
        "# Select (prediction, true label) and compute test error\n",
        "acc_evaluator = MulticlassClassificationEvaluator(labelCol=\"stroke\", predictionCol=\"prediction\", metricName=\"accuracy\")\n",
        "dtc_acc = acc_evaluator.evaluate(dtc_predictions)\n",
        "print('A Decision Tree algorithm had an accuracy of: {0:2.2f}%'.format(dtc_acc*100))"
      ],
      "execution_count": 0,
      "outputs": [
        {
          "output_type": "stream",
          "text": [
            "A Decision Tree algorithm had an accuracy of: 98.03%\n"
          ],
          "name": "stdout"
        }
      ]
    },
    {
      "cell_type": "code",
      "metadata": {
        "id": "FfZ4ouDztvWr",
        "colab_type": "code",
        "outputId": "c37c792d-e6c5-48eb-bb11-043503f4746f",
        "colab": {
          "base_uri": "https://localhost:8080/",
          "height": 195
        }
      },
      "source": [
        "# now predicting the labels for test data\n",
        "test_pred = model.transform(test_f)\n",
        "test_selected = test_pred.select( \"features\", \"prediction\",\"probability\")\n",
        "test_selected.limit(5).toPandas()"
      ],
      "execution_count": 0,
      "outputs": [
        {
          "output_type": "execute_result",
          "data": {
            "text/html": [
              "<div>\n",
              "<style scoped>\n",
              "    .dataframe tbody tr th:only-of-type {\n",
              "        vertical-align: middle;\n",
              "    }\n",
              "\n",
              "    .dataframe tbody tr th {\n",
              "        vertical-align: top;\n",
              "    }\n",
              "\n",
              "    .dataframe thead th {\n",
              "        text-align: right;\n",
              "    }\n",
              "</style>\n",
              "<table border=\"1\" class=\"dataframe\">\n",
              "  <thead>\n",
              "    <tr style=\"text-align: right;\">\n",
              "      <th></th>\n",
              "      <th>features</th>\n",
              "      <th>prediction</th>\n",
              "      <th>probability</th>\n",
              "    </tr>\n",
              "  </thead>\n",
              "  <tbody>\n",
              "    <tr>\n",
              "      <th>0</th>\n",
              "      <td>(36306.0, 0.0, 1.0, 80.0, 0.0, 0.0, 1.0, 1.0, ...</td>\n",
              "      <td>0.0</td>\n",
              "      <td>[0.943382530849262, 0.05661746915073796]</td>\n",
              "    </tr>\n",
              "    <tr>\n",
              "      <th>1</th>\n",
              "      <td>(61829.0, 1.0, 0.0, 74.0, 0.0, 1.0, 1.0, 0.0, ...</td>\n",
              "      <td>0.0</td>\n",
              "      <td>[0.8632286995515696, 0.1367713004484305]</td>\n",
              "    </tr>\n",
              "    <tr>\n",
              "      <th>2</th>\n",
              "      <td>(14152.0, 1.0, 0.0, 14.0, 0.0, 0.0, 0.0, 0.0, ...</td>\n",
              "      <td>0.0</td>\n",
              "      <td>[0.9920292131302026, 0.007970786869797393]</td>\n",
              "    </tr>\n",
              "    <tr>\n",
              "      <th>3</th>\n",
              "      <td>(12997.0, 0.0, 1.0, 28.0, 0.0, 0.0, 0.0, 1.0, ...</td>\n",
              "      <td>0.0</td>\n",
              "      <td>[0.9920292131302026, 0.007970786869797393]</td>\n",
              "    </tr>\n",
              "    <tr>\n",
              "      <th>4</th>\n",
              "      <td>(40801.0, 1.0, 0.0, 63.0, 0.0, 0.0, 1.0, 0.0, ...</td>\n",
              "      <td>0.0</td>\n",
              "      <td>[0.9920292131302026, 0.007970786869797393]</td>\n",
              "    </tr>\n",
              "  </tbody>\n",
              "</table>\n",
              "</div>"
            ],
            "text/plain": [
              "                                            features  ...                                 probability\n",
              "0  (36306.0, 0.0, 1.0, 80.0, 0.0, 0.0, 1.0, 1.0, ...  ...    [0.943382530849262, 0.05661746915073796]\n",
              "1  (61829.0, 1.0, 0.0, 74.0, 0.0, 1.0, 1.0, 0.0, ...  ...    [0.8632286995515696, 0.1367713004484305]\n",
              "2  (14152.0, 1.0, 0.0, 14.0, 0.0, 0.0, 0.0, 0.0, ...  ...  [0.9920292131302026, 0.007970786869797393]\n",
              "3  (12997.0, 0.0, 1.0, 28.0, 0.0, 0.0, 0.0, 1.0, ...  ...  [0.9920292131302026, 0.007970786869797393]\n",
              "4  (40801.0, 1.0, 0.0, 63.0, 0.0, 0.0, 1.0, 0.0, ...  ...  [0.9920292131302026, 0.007970786869797393]\n",
              "\n",
              "[5 rows x 3 columns]"
            ]
          },
          "metadata": {
            "tags": []
          },
          "execution_count": 78
        }
      ]
    },
    {
      "cell_type": "markdown",
      "metadata": {
        "id": "gBErz82ucYQB",
        "colab_type": "text"
      },
      "source": [
        "Without Imputation of the missing values"
      ]
    },
    {
      "cell_type": "code",
      "metadata": {
        "id": "SkacbzrobJUE",
        "colab_type": "code",
        "colab": {}
      },
      "source": [
        "train_c = train.na.drop()\n",
        "test_c = test.na.drop()"
      ],
      "execution_count": 0,
      "outputs": []
    },
    {
      "cell_type": "code",
      "metadata": {
        "id": "Z-yc3thlbPWp",
        "colab_type": "code",
        "colab": {}
      },
      "source": [
        "from pyspark.ml.classification import DecisionTreeClassifier\n",
        "dtc = DecisionTreeClassifier(labelCol='stroke',featuresCol='features')"
      ],
      "execution_count": 0,
      "outputs": []
    },
    {
      "cell_type": "code",
      "metadata": {
        "id": "hgRYHcajbT3b",
        "colab_type": "code",
        "colab": {}
      },
      "source": [
        "from pyspark.ml import Pipeline\n",
        "pipeline = Pipeline(stages=[indexer1, indexer2, indexer3, indexer4, indexer5, encoder, assembler, dtc])"
      ],
      "execution_count": 0,
      "outputs": []
    },
    {
      "cell_type": "code",
      "metadata": {
        "id": "u7geBKGwbVtA",
        "colab_type": "code",
        "colab": {}
      },
      "source": [
        "# splitting training and validation data\n",
        "train_data,val_data = train_c.randomSplit([0.7,0.3])\n",
        "\n",
        "# training model pipeline with data\n",
        "model = pipeline.fit(train_data)"
      ],
      "execution_count": 0,
      "outputs": []
    },
    {
      "cell_type": "code",
      "metadata": {
        "id": "rBhHqo9WcAE-",
        "colab_type": "code",
        "outputId": "08d78153-4086-4bdd-9f63-54dd6e9c00f4",
        "colab": {
          "base_uri": "https://localhost:8080/",
          "height": 202
        }
      },
      "source": [
        "# making prediction on model with validation data\n",
        "dtc_predictions = model.transform(val_data)\n",
        "\n",
        "# Select example rows to display.\n",
        "dtc_predictions.select(\"prediction\",\"probability\", \"stroke\", \"features\").show(5)"
      ],
      "execution_count": 0,
      "outputs": [
        {
          "output_type": "stream",
          "text": [
            "+----------+--------------------+------+--------------------+\n",
            "|prediction|         probability|stroke|            features|\n",
            "+----------+--------------------+------+--------------------+\n",
            "|       0.0|         [0.95,0.05]|     0|[43.0,1.0,0.0,77....|\n",
            "|       0.0|[0.99670138888888...|     0|(16,[0,1,3,6,7,12...|\n",
            "|       0.0|[0.99670138888888...|     0|(16,[0,1,3,6,7,12...|\n",
            "|       0.0|[0.99670138888888...|     0|(16,[0,1,3,9,11,1...|\n",
            "|       0.0|[0.98655845802688...|     0|(16,[0,1,3,6,9,12...|\n",
            "+----------+--------------------+------+--------------------+\n",
            "only showing top 5 rows\n",
            "\n"
          ],
          "name": "stdout"
        }
      ]
    },
    {
      "cell_type": "code",
      "metadata": {
        "id": "XDVybudjbXs5",
        "colab_type": "code",
        "outputId": "de761769-c70f-4edb-a125-ce2aab91079e",
        "colab": {
          "base_uri": "https://localhost:8080/",
          "height": 34
        }
      },
      "source": [
        "from pyspark.ml.evaluation import MulticlassClassificationEvaluator\n",
        "# Select (prediction, true label) and compute test error\n",
        "acc_evaluator = MulticlassClassificationEvaluator(labelCol=\"stroke\", predictionCol=\"prediction\", metricName=\"accuracy\")\n",
        "dtc_acc = acc_evaluator.evaluate(dtc_predictions)\n",
        "print('A Decision Tree algorithm had an accuracy of: {0:2.2f}%'.format(dtc_acc*100))"
      ],
      "execution_count": 0,
      "outputs": [
        {
          "output_type": "stream",
          "text": [
            "A Decision Tree algorithm had an accuracy of: 97.88%\n"
          ],
          "name": "stdout"
        }
      ]
    },
    {
      "cell_type": "code",
      "metadata": {
        "id": "3EQOO2zufFVD",
        "colab_type": "code",
        "outputId": "402ac8ed-ab08-494d-b0c7-eb95f780406f",
        "colab": {
          "base_uri": "https://localhost:8080/",
          "height": 195
        }
      },
      "source": [
        "# now predicting the labels for test data\n",
        "test_pred = model.transform(test_c)\n",
        "test_selected = test_pred.select( \"features\", \"prediction\",\"probability\")\n",
        "test_selected.limit(5).toPandas()"
      ],
      "execution_count": 0,
      "outputs": [
        {
          "output_type": "execute_result",
          "data": {
            "text/html": [
              "<div>\n",
              "<style scoped>\n",
              "    .dataframe tbody tr th:only-of-type {\n",
              "        vertical-align: middle;\n",
              "    }\n",
              "\n",
              "    .dataframe tbody tr th {\n",
              "        vertical-align: top;\n",
              "    }\n",
              "\n",
              "    .dataframe thead th {\n",
              "        text-align: right;\n",
              "    }\n",
              "</style>\n",
              "<table border=\"1\" class=\"dataframe\">\n",
              "  <thead>\n",
              "    <tr style=\"text-align: right;\">\n",
              "      <th></th>\n",
              "      <th>features</th>\n",
              "      <th>prediction</th>\n",
              "      <th>probability</th>\n",
              "    </tr>\n",
              "  </thead>\n",
              "  <tbody>\n",
              "    <tr>\n",
              "      <th>0</th>\n",
              "      <td>(36306.0, 0.0, 1.0, 80.0, 0.0, 0.0, 1.0, 1.0, ...</td>\n",
              "      <td>0.0</td>\n",
              "      <td>[0.9286624203821656, 0.07133757961783439]</td>\n",
              "    </tr>\n",
              "    <tr>\n",
              "      <th>1</th>\n",
              "      <td>(61829.0, 1.0, 0.0, 74.0, 0.0, 1.0, 1.0, 0.0, ...</td>\n",
              "      <td>0.0</td>\n",
              "      <td>[0.8455598455598455, 0.15444015444015444]</td>\n",
              "    </tr>\n",
              "    <tr>\n",
              "      <th>2</th>\n",
              "      <td>(40801.0, 1.0, 0.0, 63.0, 0.0, 0.0, 1.0, 0.0, ...</td>\n",
              "      <td>0.0</td>\n",
              "      <td>[0.9865584580268831, 0.013441541973116916]</td>\n",
              "    </tr>\n",
              "    <tr>\n",
              "      <th>3</th>\n",
              "      <td>[9348.0, 1.0, 0.0, 66.0, 1.0, 0.0, 1.0, 1.0, 0...</td>\n",
              "      <td>0.0</td>\n",
              "      <td>[0.9661114302125215, 0.03388856978747846]</td>\n",
              "    </tr>\n",
              "    <tr>\n",
              "      <th>4</th>\n",
              "      <td>(60512.0, 0.0, 1.0, 46.0, 0.0, 0.0, 1.0, 0.0, ...</td>\n",
              "      <td>0.0</td>\n",
              "      <td>[0.9967013888888889, 0.003298611111111111]</td>\n",
              "    </tr>\n",
              "  </tbody>\n",
              "</table>\n",
              "</div>"
            ],
            "text/plain": [
              "                                            features  ...                                 probability\n",
              "0  (36306.0, 0.0, 1.0, 80.0, 0.0, 0.0, 1.0, 1.0, ...  ...   [0.9286624203821656, 0.07133757961783439]\n",
              "1  (61829.0, 1.0, 0.0, 74.0, 0.0, 1.0, 1.0, 0.0, ...  ...   [0.8455598455598455, 0.15444015444015444]\n",
              "2  (40801.0, 1.0, 0.0, 63.0, 0.0, 0.0, 1.0, 0.0, ...  ...  [0.9865584580268831, 0.013441541973116916]\n",
              "3  [9348.0, 1.0, 0.0, 66.0, 1.0, 0.0, 1.0, 1.0, 0...  ...   [0.9661114302125215, 0.03388856978747846]\n",
              "4  (60512.0, 0.0, 1.0, 46.0, 0.0, 0.0, 1.0, 0.0, ...  ...  [0.9967013888888889, 0.003298611111111111]\n",
              "\n",
              "[5 rows x 3 columns]"
            ]
          },
          "metadata": {
            "tags": []
          },
          "execution_count": 85
        }
      ]
    },
    {
      "cell_type": "markdown",
      "metadata": {
        "id": "21YeQsSLkgfw",
        "colab_type": "text"
      },
      "source": [
        "Clustering"
      ]
    },
    {
      "cell_type": "code",
      "metadata": {
        "id": "ViK289SQlfz5",
        "colab_type": "code",
        "outputId": "7d40e43b-0dc6-4426-d1d7-5dc619fef135",
        "colab": {
          "base_uri": "https://localhost:8080/",
          "height": 474
        }
      },
      "source": [
        "# CLUSTERING ...\n",
        "\n",
        "from pyspark.ml.clustering import KMeans\n",
        "from pyspark.ml.evaluation import ClusteringEvaluator\n",
        "\n",
        "kmeans = KMeans(k=2,seed=1)\n",
        "pipeline = Pipeline(stages=[indexer1, indexer2, indexer3, indexer4, indexer5, encoder, assembler, kmeans])\n",
        "Model = pipeline.fit(train_data)\n",
        "predictionResult = Model.transform(train_data)\n",
        "predictionResult.show()"
      ],
      "execution_count": 0,
      "outputs": [
        {
          "output_type": "stream",
          "text": [
            "+---+------+----+------------+-------------+------------+-------------+--------------+-----------------+----+---------------+------+-----------+-----------------+--------------+-------------------+-------------------+---------------+-------------+-----------------+-------------+-----------------+--------------------+----------+\n",
            "| id|gender| age|hypertension|heart_disease|ever_married|    work_type|Residence_type|avg_glucose_level| bmi| smoking_status|stroke|genderIndex|ever_marriedIndex|work_typeIndex|Residence_typeIndex|smoking_statusIndex|ever_marriedVec|    genderVec|smoking_statusVec| work_typeVec|Residence_typeVec|            features|prediction|\n",
            "+---+------+----+------------+-------------+------------+-------------+--------------+-----------------+----+---------------+------+-----------+-----------------+--------------+-------------------+-------------------+---------------+-------------+-----------------+-------------+-----------------+--------------------+----------+\n",
            "|  1|Female|80.0|           0|            1|         Yes|Self-employed|         Urban|            67.45|25.6|   never smoked|     0|        0.0|              0.0|           1.0|                0.0|                0.0|  (1,[0],[1.0])|(2,[0],[1.0])|    (2,[0],[1.0])|(4,[1],[1.0])|    (1,[0],[1.0])|[1.0,1.0,0.0,80.0...|         0|\n",
            "|  4|Female|37.0|           0|            0|         Yes|      Private|         Rural|            82.15|24.3|         smokes|     0|        0.0|              0.0|           0.0|                1.0|                2.0|  (1,[0],[1.0])|(2,[0],[1.0])|        (2,[],[])|(4,[0],[1.0])|        (1,[],[])|(16,[0,1,3,6,7,12...|         0|\n",
            "|  7|Female|44.0|           0|            0|         Yes|      Private|         Urban|           222.75|19.6|   never smoked|     0|        0.0|              0.0|           0.0|                0.0|                0.0|  (1,[0],[1.0])|(2,[0],[1.0])|    (2,[0],[1.0])|(4,[0],[1.0])|    (1,[0],[1.0])|(16,[0,1,3,6,7,11...|         0|\n",
            "|  9|  Male|44.0|           0|            0|         Yes|      Private|         Rural|           125.44|35.5|   never smoked|     0|        1.0|              0.0|           0.0|                1.0|                0.0|  (1,[0],[1.0])|(2,[1],[1.0])|    (2,[0],[1.0])|(4,[0],[1.0])|        (1,[],[])|(16,[0,2,3,6,7,12...|         0|\n",
            "| 10|Female|34.0|           0|            0|         Yes|      Private|         Urban|            89.11|28.0|   never smoked|     0|        0.0|              0.0|           0.0|                0.0|                0.0|  (1,[0],[1.0])|(2,[0],[1.0])|    (2,[0],[1.0])|(4,[0],[1.0])|    (1,[0],[1.0])|(16,[0,1,3,6,7,11...|         0|\n",
            "| 12|Female|56.0|           0|            0|         Yes|      Private|         Rural|            102.3|54.9|formerly smoked|     0|        0.0|              0.0|           0.0|                1.0|                1.0|  (1,[0],[1.0])|(2,[0],[1.0])|    (2,[1],[1.0])|(4,[0],[1.0])|        (1,[],[])|(16,[0,1,3,6,7,12...|         0|\n",
            "| 14|Female|67.0|           0|            0|         Yes|      Private|         Urban|           111.04|25.1|   never smoked|     0|        0.0|              0.0|           0.0|                0.0|                0.0|  (1,[0],[1.0])|(2,[0],[1.0])|    (2,[0],[1.0])|(4,[0],[1.0])|    (1,[0],[1.0])|(16,[0,1,3,6,7,11...|         0|\n",
            "| 20|  Male|36.0|           0|            0|         Yes|     Govt_job|         Urban|            89.79|27.3|         smokes|     0|        1.0|              0.0|           2.0|                0.0|                2.0|  (1,[0],[1.0])|(2,[1],[1.0])|        (2,[],[])|(4,[2],[1.0])|    (1,[0],[1.0])|(16,[0,2,3,6,9,11...|         0|\n",
            "| 23|Female|68.0|           0|            0|         Yes|      Private|         Rural|            75.91|21.8|   never smoked|     0|        0.0|              0.0|           0.0|                1.0|                0.0|  (1,[0],[1.0])|(2,[0],[1.0])|    (2,[0],[1.0])|(4,[0],[1.0])|        (1,[],[])|(16,[0,1,3,6,7,12...|         0|\n",
            "| 24|Female|72.0|           0|            1|         Yes|Self-employed|         Rural|           113.65|27.4|formerly smoked|     0|        0.0|              0.0|           1.0|                1.0|                1.0|  (1,[0],[1.0])|(2,[0],[1.0])|    (2,[1],[1.0])|(4,[1],[1.0])|        (1,[],[])|(16,[0,1,3,5,6,8,...|         0|\n",
            "| 29|  Male|44.0|           1|            0|         Yes|      Private|         Rural|            117.1|26.9|   never smoked|     0|        1.0|              0.0|           0.0|                1.0|                0.0|  (1,[0],[1.0])|(2,[1],[1.0])|    (2,[0],[1.0])|(4,[0],[1.0])|        (1,[],[])|(16,[0,2,3,4,6,7,...|         0|\n",
            "| 38|Female|26.0|           0|            0|          No|      Private|         Urban|            82.04|21.4|   never smoked|     0|        0.0|              1.0|           0.0|                0.0|                0.0|      (1,[],[])|(2,[0],[1.0])|    (2,[0],[1.0])|(4,[0],[1.0])|    (1,[0],[1.0])|(16,[0,1,3,7,11,1...|         0|\n",
            "| 40|Female|36.0|           0|            0|          No|      Private|         Rural|            65.85|59.0|   never smoked|     0|        0.0|              1.0|           0.0|                1.0|                0.0|      (1,[],[])|(2,[0],[1.0])|    (2,[0],[1.0])|(4,[0],[1.0])|        (1,[],[])|(16,[0,1,3,7,12,1...|         0|\n",
            "| 41|  Male|74.0|           0|            0|         Yes|     Govt_job|         Rural|           201.58|25.1|formerly smoked|     0|        1.0|              0.0|           2.0|                1.0|                1.0|  (1,[0],[1.0])|(2,[1],[1.0])|    (2,[1],[1.0])|(4,[2],[1.0])|        (1,[],[])|(16,[0,2,3,6,9,12...|         0|\n",
            "| 46|Female|46.0|           0|            0|         Yes|     Govt_job|         Urban|            80.97|25.4|   never smoked|     0|        0.0|              0.0|           2.0|                0.0|                0.0|  (1,[0],[1.0])|(2,[0],[1.0])|    (2,[0],[1.0])|(4,[2],[1.0])|    (1,[0],[1.0])|(16,[0,1,3,6,9,11...|         0|\n",
            "| 47|Female|28.0|           0|            0|         Yes|      Private|         Urban|            94.49|20.0|   never smoked|     0|        0.0|              0.0|           0.0|                0.0|                0.0|  (1,[0],[1.0])|(2,[0],[1.0])|    (2,[0],[1.0])|(4,[0],[1.0])|    (1,[0],[1.0])|(16,[0,1,3,6,7,11...|         0|\n",
            "| 48|Female|58.0|           0|            0|         Yes|     Govt_job|         Rural|            77.54|18.1|   never smoked|     0|        0.0|              0.0|           2.0|                1.0|                0.0|  (1,[0],[1.0])|(2,[0],[1.0])|    (2,[0],[1.0])|(4,[2],[1.0])|        (1,[],[])|(16,[0,1,3,6,9,12...|         0|\n",
            "| 49|Female|39.0|           0|            0|         Yes|      Private|         Urban|           113.57|30.5|   never smoked|     0|        0.0|              0.0|           0.0|                0.0|                0.0|  (1,[0],[1.0])|(2,[0],[1.0])|    (2,[0],[1.0])|(4,[0],[1.0])|    (1,[0],[1.0])|(16,[0,1,3,6,7,11...|         0|\n",
            "| 55|Female|47.0|           1|            0|         Yes|Self-employed|         Rural|            90.72|25.7|   never smoked|     0|        0.0|              0.0|           1.0|                1.0|                0.0|  (1,[0],[1.0])|(2,[0],[1.0])|    (2,[0],[1.0])|(4,[1],[1.0])|        (1,[],[])|(16,[0,1,3,4,6,8,...|         0|\n",
            "| 56|  Male|48.0|           0|            0|         Yes|Self-employed|         Rural|           201.55|39.7|formerly smoked|     0|        1.0|              0.0|           1.0|                1.0|                1.0|  (1,[0],[1.0])|(2,[1],[1.0])|    (2,[1],[1.0])|(4,[1],[1.0])|        (1,[],[])|(16,[0,2,3,6,8,12...|         0|\n",
            "+---+------+----+------------+-------------+------------+-------------+--------------+-----------------+----+---------------+------+-----------+-----------------+--------------+-------------------+-------------------+---------------+-------------+-----------------+-------------+-----------------+--------------------+----------+\n",
            "only showing top 20 rows\n",
            "\n"
          ],
          "name": "stdout"
        }
      ]
    }
  ]
}