{
  "nbformat": 4,
  "nbformat_minor": 0,
  "metadata": {
    "colab": {
      "name": "Assignment4-task2-1(sakshi).ipynb",
      "provenance": [],
      "collapsed_sections": [],
      "toc_visible": true
    },
    "kernelspec": {
      "name": "python3",
      "display_name": "Python 3"
    }
  },
  "cells": [
    {
      "cell_type": "code",
      "metadata": {
        "colab_type": "code",
        "id": "SeTJb51SKs_W",
        "outputId": "9d105e39-b60a-42fe-b12c-1bf824a77f1f",
        "colab": {
          "base_uri": "https://localhost:8080/",
          "height": 34
        }
      },
      "source": [
        "from google.colab import auth\n",
        "auth.authenticate_user()\n",
        "print('Authenticated')"
      ],
      "execution_count": 131,
      "outputs": [
        {
          "output_type": "stream",
          "text": [
            "Authenticated\n"
          ],
          "name": "stdout"
        }
      ]
    },
    {
      "cell_type": "code",
      "metadata": {
        "colab_type": "code",
        "id": "LMNA-vBHPyHz",
        "colab": {}
      },
      "source": [
        "%reload_ext google.colab.data_table"
      ],
      "execution_count": 0,
      "outputs": []
    },
    {
      "cell_type": "code",
      "metadata": {
        "id": "-VWdoPdvhVsK",
        "colab_type": "code",
        "colab": {}
      },
      "source": [
        "project_id = 'subtle-signal-258712'"
      ],
      "execution_count": 0,
      "outputs": []
    },
    {
      "cell_type": "code",
      "metadata": {
        "id": "vnubRAdviKbW",
        "colab_type": "code",
        "outputId": "c112d40e-7e0f-43a0-bd5a-b6ad3aaee6ef",
        "colab": {
          "base_uri": "https://localhost:8080/",
          "height": 34
        }
      },
      "source": [
        "%env GCLOUD_PROJECT=subtle-signal-258712"
      ],
      "execution_count": 134,
      "outputs": [
        {
          "output_type": "stream",
          "text": [
            "env: GCLOUD_PROJECT=subtle-signal-258712\n"
          ],
          "name": "stdout"
        }
      ]
    },
    {
      "cell_type": "code",
      "metadata": {
        "id": "W2qvzFmhn-I0",
        "colab_type": "code",
        "outputId": "dc18134b-461f-4092-8dc6-8cff23d823b4",
        "colab": {
          "base_uri": "https://localhost:8080/",
          "height": 108
        }
      },
      "source": [
        "%%bigquery --project subtle-signal-258712 --use_legacy_sql\n",
        "SELECT \n",
        "  COUNT(*) as total_rows\n",
        "FROM [bigquery-public-data:samples.gsod]"
      ],
      "execution_count": 135,
      "outputs": [
        {
          "output_type": "execute_result",
          "data": {
            "application/vnd.google.colaboratory.module+javascript": "\n      import \"https://ssl.gstatic.com/colaboratory/data_table/9e554b27bdd509f3/data_table.js\";\n\n      window.createDataTable({\n        data: [[{\n            'v': 0,\n            'f': \"0\",\n        },\n{\n            'v': 114420316,\n            'f': \"114420316\",\n        }]],\n        columns: [[\"number\", \"index\"], [\"number\", \"total_rows\"]],\n        columnOptions: [{\"width\": \"1px\", \"className\": \"index_column\"}],\n        rowsPerPage: 25,\n        helpUrl: \"https://colab.research.google.com/notebooks/data_table.ipynb\",\n      });\n    ",
            "text/html": [
              "<div>\n",
              "<style scoped>\n",
              "    .dataframe tbody tr th:only-of-type {\n",
              "        vertical-align: middle;\n",
              "    }\n",
              "\n",
              "    .dataframe tbody tr th {\n",
              "        vertical-align: top;\n",
              "    }\n",
              "\n",
              "    .dataframe thead th {\n",
              "        text-align: right;\n",
              "    }\n",
              "</style>\n",
              "<table border=\"1\" class=\"dataframe\">\n",
              "  <thead>\n",
              "    <tr style=\"text-align: right;\">\n",
              "      <th></th>\n",
              "      <th>total_rows</th>\n",
              "    </tr>\n",
              "  </thead>\n",
              "  <tbody>\n",
              "    <tr>\n",
              "      <th>0</th>\n",
              "      <td>114420316</td>\n",
              "    </tr>\n",
              "  </tbody>\n",
              "</table>\n",
              "</div>"
            ],
            "text/plain": [
              "   total_rows\n",
              "0   114420316"
            ]
          },
          "metadata": {
            "tags": []
          },
          "execution_count": 135
        }
      ]
    },
    {
      "cell_type": "code",
      "metadata": {
        "id": "2gDNDKYYieGU",
        "colab_type": "code",
        "outputId": "82ff011d-0828-446a-9060-218e87f03af2",
        "colab": {
          "base_uri": "https://localhost:8080/",
          "height": 34
        }
      },
      "source": [
        "from google.cloud import bigquery\n",
        "\n",
        "client = bigquery.Client(project= 'subtle-signal-258712')\n",
        "\n",
        "row_count = client.query('''\n",
        "    SELECT\n",
        "      COUNT(*) as total\n",
        "    FROM `genomics-public-data.1000_genomes.sample_info`\n",
        "''').to_dataframe().total[0]\n",
        "\n",
        "print('Full dataset has %d rows' % row_count)"
      ],
      "execution_count": 136,
      "outputs": [
        {
          "output_type": "stream",
          "text": [
            "Full dataset has 3500 rows\n"
          ],
          "name": "stdout"
        }
      ]
    },
    {
      "cell_type": "code",
      "metadata": {
        "id": "gSdXOco3kpIE",
        "colab_type": "code",
        "colab": {}
      },
      "source": [
        "\"\"\"\n",
        "Helper class to simplify common read-only BigQuery tasks.\n",
        "\"\"\"\n",
        "import pandas as pd\n",
        "import time\n",
        "\n",
        "from google.cloud import bigquery\n",
        "\n",
        "class BigQueryHelper(object):\n",
        "    \"\"\"\n",
        "    Helper class to simplify common BigQuery tasks like executing queries,\n",
        "    showing table schemas, etc without worrying about table or dataset pointers.\n",
        "\n",
        "    See the BigQuery docs for details of the steps this class lets you skip:\n",
        "    https://googlecloudplatform.github.io/google-cloud-python/latest/bigquery/reference.html\n",
        "    \"\"\"\n",
        "\n",
        "    def __init__(self, active_project, dataset_name, max_wait_seconds=180):\n",
        "        self.project_name = active_project\n",
        "        self.dataset_name = dataset_name\n",
        "        self.max_wait_seconds = max_wait_seconds\n",
        "        self.client = bigquery.Client()\n",
        "        self.__dataset_ref = self.client.dataset(self.dataset_name, project=self.project_name)\n",
        "        self.dataset = None\n",
        "        self.tables = dict()  # {table name (str): table object}\n",
        "        self.__table_refs = dict()  # {table name (str): table reference}\n",
        "        self.total_gb_used_net_cache = 0\n",
        "        self.BYTES_PER_GB = 2**30\n",
        "\n",
        "    def __fetch_dataset(self):\n",
        "        \"\"\"\n",
        "        Lazy loading of dataset. For example,\n",
        "        if the user only calls `self.query_to_pandas` then the\n",
        "        dataset never has to be fetched.\n",
        "        \"\"\"\n",
        "        if self.dataset is None:\n",
        "            self.dataset = self.client.get_dataset(self.__dataset_ref)\n",
        "\n",
        "    def __fetch_table(self, table_name):\n",
        "        \"\"\"\n",
        "        Lazy loading of table\n",
        "        \"\"\"\n",
        "        self.__fetch_dataset()\n",
        "        if table_name not in self.__table_refs:\n",
        "            self.__table_refs[table_name] = self.dataset.table(table_name)\n",
        "        if table_name not in self.tables:\n",
        "            self.tables[table_name] = self.client.get_table(self.__table_refs[table_name])\n",
        "\n",
        "    def __handle_record_field(self, row, schema_details, top_level_name=''):\n",
        "        \"\"\"\n",
        "        Unpack a single row, including any nested fields.\n",
        "        \"\"\"\n",
        "        name = row['name']\n",
        "        if top_level_name != '':\n",
        "            name = top_level_name + '.' + name\n",
        "        schema_details.append([{\n",
        "            'name': name,\n",
        "            'type': row['type'],\n",
        "            'mode': row['mode'],\n",
        "            'fields': pd.np.nan,\n",
        "            'description': row['description']\n",
        "                               }])\n",
        "        # float check is to dodge row['fields'] == np.nan\n",
        "        if type(row.get('fields', 0.0)) == float:\n",
        "            return None\n",
        "        for entry in row['fields']:\n",
        "            self.__handle_record_field(entry, schema_details, name)\n",
        "\n",
        "    def __unpack_all_schema_fields(self, schema):\n",
        "        \"\"\"\n",
        "        Unrolls nested schemas. Returns dataframe with one row per field,\n",
        "        and the field names in the format accepted by the API.\n",
        "        Results will look similar to the website schema, such as:\n",
        "            https://bigquery.cloud.google.com/table/bigquery-public-data:github_repos.commits?pli=1\n",
        "\n",
        "        Args:\n",
        "            schema: DataFrame derived from api repr of raw table.schema\n",
        "        Returns:\n",
        "            Dataframe of the unrolled schema.\n",
        "        \"\"\"\n",
        "        schema_details = []\n",
        "        schema.apply(lambda row:\n",
        "            self.__handle_record_field(row, schema_details), axis=1)\n",
        "        result = pd.concat([pd.DataFrame.from_dict(x) for x in schema_details])\n",
        "        result.reset_index(drop=True, inplace=True)\n",
        "        del result['fields']\n",
        "        return result\n",
        "\n",
        "    def table_schema(self, table_name):\n",
        "        \"\"\"\n",
        "        Get the schema for a specific table from a dataset.\n",
        "        Unrolls nested field names into the format that can be copied\n",
        "        directly into queries. For example, for the `github.commits` table,\n",
        "        the this will return `committer.name`.\n",
        "\n",
        "        This is a very different return signature than BigQuery's table.schema.\n",
        "        \"\"\"\n",
        "        self.__fetch_table(table_name)\n",
        "        raw_schema = self.tables[table_name].schema\n",
        "        schema = pd.DataFrame.from_dict([x.to_api_repr() for x in raw_schema])\n",
        "        # the api_repr only has the fields column for tables with nested data\n",
        "        if 'fields' in schema.columns:\n",
        "            schema = self.__unpack_all_schema_fields(schema)\n",
        "        # Set the column order\n",
        "        schema = schema[['name', 'type', 'mode', 'description']]\n",
        "        return schema\n",
        "\n",
        "    def list_tables(self):\n",
        "        \"\"\"\n",
        "        List the names of the tables in a dataset\n",
        "        \"\"\"\n",
        "        self.__fetch_dataset()\n",
        "        return([x.table_id for x in self.client.list_tables(self.dataset)])\n",
        "\n",
        "    def estimate_query_size(self, query):\n",
        "        \"\"\"\n",
        "        Estimate gigabytes scanned by query.\n",
        "        Does not consider if there is a cached query table.\n",
        "        See https://cloud.google.com/bigquery/docs/reference/rest/v2/jobs#configuration.dryRun\n",
        "        \"\"\"\n",
        "        my_job_config = bigquery.job.QueryJobConfig()\n",
        "        my_job_config.dry_run = True\n",
        "        my_job = self.client.query(query, job_config=my_job_config)\n",
        "        return my_job.total_bytes_processed / self.BYTES_PER_GB\n",
        "\n",
        "    def query_to_pandas(self, query):\n",
        "        \"\"\"\n",
        "        Execute a SQL query & return a pandas dataframe\n",
        "        \"\"\"\n",
        "        my_job = self.client.query(query)\n",
        "        start_time = time.time()\n",
        "        while not my_job.done():\n",
        "            if (time.time() - start_time) > self.max_wait_seconds:\n",
        "                print(\"Max wait time elapsed, query cancelled.\")\n",
        "                self.client.cancel_job(my_job.job_id)\n",
        "                return None\n",
        "            time.sleep(0.1)\n",
        "        # Queries that hit errors will return an exception type.\n",
        "        # Those exceptions don't get raised until we call my_job.to_dataframe()\n",
        "        # In that case, my_job.total_bytes_billed can be called but is None\n",
        "        if my_job.total_bytes_billed:\n",
        "            self.total_gb_used_net_cache += my_job.total_bytes_billed / self.BYTES_PER_GB\n",
        "        return my_job.to_dataframe()\n",
        "\n",
        "    def query_to_pandas_safe(self, query, max_gb_scanned=1):\n",
        "        \"\"\"\n",
        "        Execute a query, but only if the query would scan less than `max_gb_scanned` of data.\n",
        "        \"\"\"\n",
        "        query_size = self.estimate_query_size(query)\n",
        "        if query_size <= max_gb_scanned:\n",
        "            return self.query_to_pandas(query)\n",
        "        msg = \"Query cancelled; estimated size of {0} exceeds limit of {1} GB\"\n",
        "        print(msg.format(query_size, max_gb_scanned))\n",
        "\n",
        "    def head(self, table_name, num_rows=5, start_index=None, selected_columns=None):\n",
        "        \"\"\"\n",
        "        Get the first n rows of a table as a DataFrame.\n",
        "        Does not perform a full table scan; should use a trivial amount of data as long as n is small.\n",
        "        \"\"\"\n",
        "        self.__fetch_table(table_name)\n",
        "        active_table = self.tables[table_name]\n",
        "        schema_subset = None\n",
        "        if selected_columns:\n",
        "            schema_subset = [col for col in active_table.schema if col.name in selected_columns]\n",
        "        results = self.client.list_rows(active_table, selected_fields=schema_subset,\n",
        "            max_results=num_rows, start_index=start_index)\n",
        "        results = [x for x in results]\n",
        "        return pd.DataFrame(\n",
        "            data=[list(x.values()) for x in results], columns=list(results[0].keys()))"
      ],
      "execution_count": 0,
      "outputs": []
    },
    {
      "cell_type": "code",
      "metadata": {
        "id": "0k-8UXQPxxIx",
        "colab_type": "code",
        "colab": {}
      },
      "source": [
        "import matplotlib.pyplot as plt\n",
        "import seaborn as sns\n",
        "%matplotlib inline\n",
        "plt.style.use('ggplot')"
      ],
      "execution_count": 0,
      "outputs": []
    },
    {
      "cell_type": "markdown",
      "metadata": {
        "id": "f7Fin7_ZvMz1",
        "colab_type": "text"
      },
      "source": [
        "**TASK** **2**: **“Data** **Stories** **for** **the** **1000** **Genomes** **Project”**"
      ]
    },
    {
      "cell_type": "markdown",
      "metadata": {
        "id": "8MskKdMocHiM",
        "colab_type": "text"
      },
      "source": [
        "**2.1** : **EXPLORING PHENOTYPIC DATA** "
      ]
    },
    {
      "cell_type": "markdown",
      "metadata": {
        "id": "UebAkVBAv_Q0",
        "colab_type": "text"
      },
      "source": [
        "Exploring the Sample Information\n",
        "\n",
        "Ethnicity, gender, and family relationship information is available for the 1,000 Genomes dataset. \n",
        "The full 1,000 Genomes dataset has data for 3,500 individuals but the low coverage variant data in table variants is only for a subset of those individuals.\n"
      ]
    },
    {
      "cell_type": "code",
      "metadata": {
        "id": "bK0eSb6gmZ7I",
        "colab_type": "code",
        "colab": {}
      },
      "source": [
        "#Creating the helper for our second dataset.\n",
        "bq_assistant = BigQueryHelper('genomics-public-data','1000_genomes','sample_info')"
      ],
      "execution_count": 0,
      "outputs": []
    },
    {
      "cell_type": "code",
      "metadata": {
        "id": "9CUSJNuZ2bz6",
        "colab_type": "code",
        "outputId": "dea2421b-0786-42da-ac87-241462940a79",
        "colab": {
          "base_uri": "https://localhost:8080/",
          "height": 34
        }
      },
      "source": [
        "bq_assistant.list_tables()"
      ],
      "execution_count": 140,
      "outputs": [
        {
          "output_type": "execute_result",
          "data": {
            "text/plain": [
              "['pedigree', 'sample_info', 'variants']"
            ]
          },
          "metadata": {
            "tags": []
          },
          "execution_count": 140
        }
      ]
    },
    {
      "cell_type": "markdown",
      "metadata": {
        "id": "FwlR3GEWvq3r",
        "colab_type": "text"
      },
      "source": [
        "***QUERY*** **1**: COUNT THE NUMBER OF SAMPLES"
      ]
    },
    {
      "cell_type": "code",
      "metadata": {
        "id": "ICzFXNs1wAzl",
        "colab_type": "code",
        "colab": {}
      },
      "source": [
        "QUERY ='''SELECT\n",
        "  COUNT(sample) AS all_samples,\n",
        "  SUM(IF(In_Phase1_Integrated_Variant_Set = TRUE, 1, 0)) AS samples_in_variants_table\n",
        "FROM\n",
        "  `genomics-public-data.1000_genomes.sample_info` \n",
        "  '''"
      ],
      "execution_count": 0,
      "outputs": []
    },
    {
      "cell_type": "code",
      "metadata": {
        "id": "Bi1C7_-c1saS",
        "colab_type": "code",
        "outputId": "14a0aa30-90da-442a-8265-c940ed2aed65",
        "colab": {
          "base_uri": "https://localhost:8080/",
          "height": 34
        }
      },
      "source": [
        "bq_assistant.estimate_query_size(QUERY)"
      ],
      "execution_count": 142,
      "outputs": [
        {
          "output_type": "execute_result",
          "data": {
            "text/plain": [
              "3.0353665351867676e-05"
            ]
          },
          "metadata": {
            "tags": []
          },
          "execution_count": 142
        }
      ]
    },
    {
      "cell_type": "code",
      "metadata": {
        "id": "MD8x-7DJPnhZ",
        "colab_type": "code",
        "colab": {}
      },
      "source": [
        "df = bq_assistant.query_to_pandas_safe(QUERY)"
      ],
      "execution_count": 0,
      "outputs": []
    },
    {
      "cell_type": "code",
      "metadata": {
        "id": "odNfi1-WPpyG",
        "colab_type": "code",
        "outputId": "280cba78-5323-49e9-f0ff-5f24f87938a1",
        "colab": {
          "base_uri": "https://localhost:8080/",
          "height": 125
        }
      },
      "source": [
        "#To explore the results:\n",
        "print('Size of dataframe: {} Bytes'.format(int(df.memory_usage(index=True, deep=True).sum())))\n",
        "df.head()"
      ],
      "execution_count": 144,
      "outputs": [
        {
          "output_type": "stream",
          "text": [
            "Size of dataframe: 144 Bytes\n"
          ],
          "name": "stdout"
        },
        {
          "output_type": "execute_result",
          "data": {
            "application/vnd.google.colaboratory.module+javascript": "\n      import \"https://ssl.gstatic.com/colaboratory/data_table/9e554b27bdd509f3/data_table.js\";\n\n      window.createDataTable({\n        data: [[{\n            'v': 0,\n            'f': \"0\",\n        },\n{\n            'v': 3500,\n            'f': \"3500\",\n        },\n{\n            'v': 1092,\n            'f': \"1092\",\n        }]],\n        columns: [[\"number\", \"index\"], [\"number\", \"all_samples\"], [\"number\", \"samples_in_variants_table\"]],\n        columnOptions: [{\"width\": \"1px\", \"className\": \"index_column\"}],\n        rowsPerPage: 25,\n        helpUrl: \"https://colab.research.google.com/notebooks/data_table.ipynb\",\n      });\n    ",
            "text/html": [
              "<div>\n",
              "<style scoped>\n",
              "    .dataframe tbody tr th:only-of-type {\n",
              "        vertical-align: middle;\n",
              "    }\n",
              "\n",
              "    .dataframe tbody tr th {\n",
              "        vertical-align: top;\n",
              "    }\n",
              "\n",
              "    .dataframe thead th {\n",
              "        text-align: right;\n",
              "    }\n",
              "</style>\n",
              "<table border=\"1\" class=\"dataframe\">\n",
              "  <thead>\n",
              "    <tr style=\"text-align: right;\">\n",
              "      <th></th>\n",
              "      <th>all_samples</th>\n",
              "      <th>samples_in_variants_table</th>\n",
              "    </tr>\n",
              "  </thead>\n",
              "  <tbody>\n",
              "    <tr>\n",
              "      <th>0</th>\n",
              "      <td>3500</td>\n",
              "      <td>1092</td>\n",
              "    </tr>\n",
              "  </tbody>\n",
              "</table>\n",
              "</div>"
            ],
            "text/plain": [
              "   all_samples  samples_in_variants_table\n",
              "0         3500                       1092"
            ]
          },
          "metadata": {
            "tags": []
          },
          "execution_count": 144
        }
      ]
    },
    {
      "cell_type": "code",
      "metadata": {
        "id": "lo9NvBNRwC19",
        "colab_type": "code",
        "outputId": "05f7b4b6-4c69-4a6a-c14c-824d8b020d6f",
        "colab": {
          "base_uri": "https://localhost:8080/",
          "height": 283
        }
      },
      "source": [
        "import pandas as pd\n",
        "import numpy as np\n",
        "import seaborn as sns\n",
        "\n",
        "import matplotlib.pyplot as plt\n",
        "\n",
        "objects = ('all_Samples', 'samples_in_variants_table')\n",
        "y_pos = np.arange(len(objects))\n",
        "performance = [df.iloc[0]['all_samples'], df.iloc[0]['samples_in_variants_table']]\n",
        "\n",
        "plt.bar(y_pos, performance, align='center', alpha=0.5)\n",
        "plt.xticks(y_pos, objects)\n",
        "plt.ylabel('# of Samples')\n",
        "plt.title('Count of number of samples in the phenotypic data')\n",
        "\n",
        "plt.show()"
      ],
      "execution_count": 145,
      "outputs": [
        {
          "output_type": "display_data",
          "data": {
            "image/png": "[encoded data removed]",
            "text/plain": [
              "<Figure size 432x288 with 1 Axes>"
            ]
          },
          "metadata": {
            "tags": []
          }
        }
      ]
    },
    {
      "cell_type": "markdown",
      "metadata": {
        "id": "D4A7pkJX_5pg",
        "colab_type": "text"
      },
      "source": [
        "***QUERY*** **2**: Ratio by Gender"
      ]
    },
    {
      "cell_type": "code",
      "metadata": {
        "id": "i00vm0xtynPS",
        "colab_type": "code",
        "colab": {}
      },
      "source": [
        "QUERY ='''SELECT\n",
        "GENDER,\n",
        "GENDER_COUNT,\n",
        "ROUND((GENDER_COUNT/TOTAL),2) AS GENDER_RATIO\n",
        "FROM\n",
        "(SELECT\n",
        "    gender,\n",
        "    COUNT(gender) AS gender_count,\n",
        "\t SUM(COUNT(GENDER)) OVER() AS TOTAL\n",
        "  FROM\n",
        "    `genomics-public-data.1000_genomes.sample_info`\n",
        "  WHERE\n",
        "    In_Phase1_Integrated_Variant_Set = TRUE\n",
        "  GROUP BY\n",
        "    gender\n",
        ")\n",
        "ORDER BY\n",
        "GENDER'''"
      ],
      "execution_count": 0,
      "outputs": []
    },
    {
      "cell_type": "code",
      "metadata": {
        "id": "oHuDVzjBQkaA",
        "colab_type": "code",
        "outputId": "d70f5cc9-cb9d-4275-d51f-0c51e4597332",
        "colab": {
          "base_uri": "https://localhost:8080/",
          "height": 34
        }
      },
      "source": [
        "bq_assistant.estimate_query_size(QUERY)"
      ],
      "execution_count": 147,
      "outputs": [
        {
          "output_type": "execute_result",
          "data": {
            "text/plain": [
              "2.3853033781051636e-05"
            ]
          },
          "metadata": {
            "tags": []
          },
          "execution_count": 147
        }
      ]
    },
    {
      "cell_type": "code",
      "metadata": {
        "id": "_2_xwB-pPwjM",
        "colab_type": "code",
        "colab": {}
      },
      "source": [
        "df = bq_assistant.query_to_pandas_safe(QUERY)"
      ],
      "execution_count": 0,
      "outputs": []
    },
    {
      "cell_type": "code",
      "metadata": {
        "id": "JwT7CczGPy9y",
        "colab_type": "code",
        "outputId": "90f4c344-b9b0-4687-cf28-9ebe1c58571b",
        "colab": {
          "base_uri": "https://localhost:8080/",
          "height": 145
        }
      },
      "source": [
        "#To explore the results:\n",
        "print('Size of dataframe: {} Bytes'.format(int(df.memory_usage(index=True, deep=True).sum())))\n",
        "df.head()"
      ],
      "execution_count": 149,
      "outputs": [
        {
          "output_type": "stream",
          "text": [
            "Size of dataframe: 284 Bytes\n"
          ],
          "name": "stdout"
        },
        {
          "output_type": "execute_result",
          "data": {
            "application/vnd.google.colaboratory.module+javascript": "\n      import \"https://ssl.gstatic.com/colaboratory/data_table/9e554b27bdd509f3/data_table.js\";\n\n      window.createDataTable({\n        data: [[{\n            'v': 0,\n            'f': \"0\",\n        },\n\"female\",\n{\n            'v': 567,\n            'f': \"567\",\n        },\n{\n            'v': 0.52,\n            'f': \"0.52\",\n        }],\n [{\n            'v': 1,\n            'f': \"1\",\n        },\n\"male\",\n{\n            'v': 525,\n            'f': \"525\",\n        },\n{\n            'v': 0.48,\n            'f': \"0.48\",\n        }]],\n        columns: [[\"number\", \"index\"], [\"string\", \"GENDER\"], [\"number\", \"GENDER_COUNT\"], [\"number\", \"GENDER_RATIO\"]],\n        columnOptions: [{\"width\": \"1px\", \"className\": \"index_column\"}],\n        rowsPerPage: 25,\n        helpUrl: \"https://colab.research.google.com/notebooks/data_table.ipynb\",\n      });\n    ",
            "text/html": [
              "<div>\n",
              "<style scoped>\n",
              "    .dataframe tbody tr th:only-of-type {\n",
              "        vertical-align: middle;\n",
              "    }\n",
              "\n",
              "    .dataframe tbody tr th {\n",
              "        vertical-align: top;\n",
              "    }\n",
              "\n",
              "    .dataframe thead th {\n",
              "        text-align: right;\n",
              "    }\n",
              "</style>\n",
              "<table border=\"1\" class=\"dataframe\">\n",
              "  <thead>\n",
              "    <tr style=\"text-align: right;\">\n",
              "      <th></th>\n",
              "      <th>GENDER</th>\n",
              "      <th>GENDER_COUNT</th>\n",
              "      <th>GENDER_RATIO</th>\n",
              "    </tr>\n",
              "  </thead>\n",
              "  <tbody>\n",
              "    <tr>\n",
              "      <th>0</th>\n",
              "      <td>female</td>\n",
              "      <td>567</td>\n",
              "      <td>0.52</td>\n",
              "    </tr>\n",
              "    <tr>\n",
              "      <th>1</th>\n",
              "      <td>male</td>\n",
              "      <td>525</td>\n",
              "      <td>0.48</td>\n",
              "    </tr>\n",
              "  </tbody>\n",
              "</table>\n",
              "</div>"
            ],
            "text/plain": [
              "   GENDER  GENDER_COUNT  GENDER_RATIO\n",
              "0  female           567          0.52\n",
              "1    male           525          0.48"
            ]
          },
          "metadata": {
            "tags": []
          },
          "execution_count": 149
        }
      ]
    },
    {
      "cell_type": "code",
      "metadata": {
        "id": "7J8rCjaNFlTA",
        "colab_type": "code",
        "colab": {
          "base_uri": "https://localhost:8080/",
          "height": 303
        },
        "outputId": "24f10960-8a1b-405e-9775-071e93957209"
      },
      "source": [
        "plot = df.plot.pie(y='GENDER_COUNT', labels=[df.iloc[0][0], df.iloc[1][0]], figsize=(5, 5))"
      ],
      "execution_count": 150,
      "outputs": [
        {
          "output_type": "display_data",
          "data": {
            "image/png": "[encoded data removed]",
            "text/plain": [
              "<Figure size 360x360 with 1 Axes>"
            ]
          },
          "metadata": {
            "tags": []
          }
        }
      ]
    },
    {
      "cell_type": "markdown",
      "metadata": {
        "id": "higFfTdBWXWe",
        "colab_type": "text"
      },
      "source": [
        "***QUERY*** **3**: Ratio by Ethnicity"
      ]
    },
    {
      "cell_type": "code",
      "metadata": {
        "id": "OF55pe8cyy-R",
        "colab_type": "code",
        "colab": {}
      },
      "source": [
        "QUERY = '''SELECT\n",
        "  population,\n",
        "  population_description,\n",
        "  population_count,\n",
        "   ROUND((population_count/TOTAL),2) AS population_ratio\n",
        "from(\n",
        "    SELECT\n",
        "    population,\n",
        "    population_description,\n",
        "    super_population,\n",
        "    super_population_description,\n",
        "    COUNT(population) AS population_count,\n",
        "    SUM(COUNT(population)) OVER () as TOTAL\n",
        "  FROM\n",
        "    `genomics-public-data.1000_genomes.sample_info` \n",
        "  WHERE\n",
        "    In_Phase1_Integrated_Variant_Set = TRUE\n",
        "  GROUP BY\n",
        "    population,\n",
        "    population_description,\n",
        "    super_population,\n",
        "    super_population_description\n",
        "    ORDER BY \n",
        "    population,\n",
        "    population_description,\n",
        "    super_population,\n",
        "    super_population_description\n",
        "    )\n",
        "    '''"
      ],
      "execution_count": 0,
      "outputs": []
    },
    {
      "cell_type": "code",
      "metadata": {
        "id": "emwYONjGQl8j",
        "colab_type": "code",
        "outputId": "7a8b961a-509b-4525-e1c2-089c4ab0049e",
        "colab": {
          "base_uri": "https://localhost:8080/",
          "height": 34
        }
      },
      "source": [
        "bq_assistant.estimate_query_size(QUERY)"
      ],
      "execution_count": 202,
      "outputs": [
        {
          "output_type": "execute_result",
          "data": {
            "text/plain": [
              "0.0001673717051744461"
            ]
          },
          "metadata": {
            "tags": []
          },
          "execution_count": 202
        }
      ]
    },
    {
      "cell_type": "code",
      "metadata": {
        "id": "MDBqZRhMP2g0",
        "colab_type": "code",
        "colab": {}
      },
      "source": [
        "df = bq_assistant.query_to_pandas_safe(QUERY)"
      ],
      "execution_count": 0,
      "outputs": []
    },
    {
      "cell_type": "code",
      "metadata": {
        "id": "ruiZ3E2_P0eA",
        "colab_type": "code",
        "outputId": "9ecef79a-34ce-499b-f1df-3e510da3dc1b",
        "colab": {
          "base_uri": "https://localhost:8080/",
          "height": 205
        }
      },
      "source": [
        "#To explore the results:\n",
        "print('Size of dataframe: {} Bytes'.format(int(df.memory_usage(index=True, deep=True).sum())))\n",
        "df.head()"
      ],
      "execution_count": 204,
      "outputs": [
        {
          "output_type": "stream",
          "text": [
            "Size of dataframe: 2400 Bytes\n"
          ],
          "name": "stdout"
        },
        {
          "output_type": "execute_result",
          "data": {
            "application/vnd.google.colaboratory.module+javascript": "\n      import \"https://ssl.gstatic.com/colaboratory/data_table/9e554b27bdd509f3/data_table.js\";\n\n      window.createDataTable({\n        data: [[{\n            'v': 0,\n            'f': \"0\",\n        },\n\"ASW\",\n\"African Ancestry in Southwest US\",\n{\n            'v': 61,\n            'f': \"61\",\n        },\n{\n            'v': 0.06,\n            'f': \"0.06\",\n        }],\n [{\n            'v': 1,\n            'f': \"1\",\n        },\n\"CEU\",\n\"Utah residents with Northern and Western European ancestry\",\n{\n            'v': 85,\n            'f': \"85\",\n        },\n{\n            'v': 0.08,\n            'f': \"0.08\",\n        }],\n [{\n            'v': 2,\n            'f': \"2\",\n        },\n\"CHB\",\n\"Han Chinese in Bejing, China\",\n{\n            'v': 97,\n            'f': \"97\",\n        },\n{\n            'v': 0.09,\n            'f': \"0.09\",\n        }],\n [{\n            'v': 3,\n            'f': \"3\",\n        },\n\"CHS\",\n\"Southern Han Chinese, China\",\n{\n            'v': 100,\n            'f': \"100\",\n        },\n{\n            'v': 0.09,\n            'f': \"0.09\",\n        }],\n [{\n            'v': 4,\n            'f': \"4\",\n        },\n\"CLM\",\n\"Colombian in Medellin, Colombia\",\n{\n            'v': 60,\n            'f': \"60\",\n        },\n{\n            'v': 0.05,\n            'f': \"0.05\",\n        }]],\n        columns: [[\"number\", \"index\"], [\"string\", \"population\"], [\"string\", \"population_description\"], [\"number\", \"population_count\"], [\"number\", \"population_ratio\"]],\n        columnOptions: [{\"width\": \"1px\", \"className\": \"index_column\"}],\n        rowsPerPage: 25,\n        helpUrl: \"https://colab.research.google.com/notebooks/data_table.ipynb\",\n      });\n    ",
            "text/html": [
              "<div>\n",
              "<style scoped>\n",
              "    .dataframe tbody tr th:only-of-type {\n",
              "        vertical-align: middle;\n",
              "    }\n",
              "\n",
              "    .dataframe tbody tr th {\n",
              "        vertical-align: top;\n",
              "    }\n",
              "\n",
              "    .dataframe thead th {\n",
              "        text-align: right;\n",
              "    }\n",
              "</style>\n",
              "<table border=\"1\" class=\"dataframe\">\n",
              "  <thead>\n",
              "    <tr style=\"text-align: right;\">\n",
              "      <th></th>\n",
              "      <th>population</th>\n",
              "      <th>population_description</th>\n",
              "      <th>population_count</th>\n",
              "      <th>population_ratio</th>\n",
              "    </tr>\n",
              "  </thead>\n",
              "  <tbody>\n",
              "    <tr>\n",
              "      <th>0</th>\n",
              "      <td>ASW</td>\n",
              "      <td>African Ancestry in Southwest US</td>\n",
              "      <td>61</td>\n",
              "      <td>0.06</td>\n",
              "    </tr>\n",
              "    <tr>\n",
              "      <th>1</th>\n",
              "      <td>CEU</td>\n",
              "      <td>Utah residents with Northern and Western Europ...</td>\n",
              "      <td>85</td>\n",
              "      <td>0.08</td>\n",
              "    </tr>\n",
              "    <tr>\n",
              "      <th>2</th>\n",
              "      <td>CHB</td>\n",
              "      <td>Han Chinese in Bejing, China</td>\n",
              "      <td>97</td>\n",
              "      <td>0.09</td>\n",
              "    </tr>\n",
              "    <tr>\n",
              "      <th>3</th>\n",
              "      <td>CHS</td>\n",
              "      <td>Southern Han Chinese, China</td>\n",
              "      <td>100</td>\n",
              "      <td>0.09</td>\n",
              "    </tr>\n",
              "    <tr>\n",
              "      <th>4</th>\n",
              "      <td>CLM</td>\n",
              "      <td>Colombian in Medellin, Colombia</td>\n",
              "      <td>60</td>\n",
              "      <td>0.05</td>\n",
              "    </tr>\n",
              "  </tbody>\n",
              "</table>\n",
              "</div>"
            ],
            "text/plain": [
              "  population  ... population_ratio\n",
              "0        ASW  ...             0.06\n",
              "1        CEU  ...             0.08\n",
              "2        CHB  ...             0.09\n",
              "3        CHS  ...             0.09\n",
              "4        CLM  ...             0.05\n",
              "\n",
              "[5 rows x 4 columns]"
            ]
          },
          "metadata": {
            "tags": []
          },
          "execution_count": 204
        }
      ]
    },
    {
      "cell_type": "code",
      "metadata": {
        "id": "jzlnM5bVJLwk",
        "colab_type": "code",
        "colab": {
          "base_uri": "https://localhost:8080/",
          "height": 282
        },
        "outputId": "281ced8a-3d65-4b47-904c-cdd4d027ac65"
      },
      "source": [
        "objects = ('IBS','PUR','CLM','ASW','MXL','CEU','YRI','GBR','JPT','FIN','CHB','LWK', 'TSI','CHS')\n",
        "y_pos = np.arange(len(objects))\n",
        "performance = [df.iloc[0][2],df.iloc[1][2],df.iloc[2][2],df.iloc[3][2],df.iloc[4][2],df.iloc[5][2],\n",
        "df.iloc[6][2],df.iloc[7][2],df.iloc[8][2],df.iloc[9][2],df.iloc[10][2],df.iloc[11][2],df.iloc[12][2],df.iloc[13][2]]\n",
        "\n",
        "plt.bar(y_pos, performance, align='center', alpha=0.5)\n",
        "plt.xticks(y_pos, objects)\n",
        "plt.ylabel('Number of samples in population')\n",
        "plt.title('Count of samples in populations')\n",
        "\n",
        "plt.show()"
      ],
      "execution_count": 169,
      "outputs": [
        {
          "output_type": "display_data",
          "data": {
            "image/png": "[encoded data removed]",
            "text/plain": [
              "<Figure size 432x288 with 1 Axes>"
            ]
          },
          "metadata": {
            "tags": []
          }
        }
      ]
    },
    {
      "cell_type": "markdown",
      "metadata": {
        "id": "6gX-UN5VYtdF",
        "colab_type": "text"
      },
      "source": [
        "***QUERY*** **4**: Ratio of Ethnicities grouped by super population"
      ]
    },
    {
      "cell_type": "code",
      "metadata": {
        "id": "zrDVjZFtEUWw",
        "colab_type": "code",
        "colab": {}
      },
      "source": [
        "%%bigquery --project subtle-signal-258712 df\n",
        "SELECT\n",
        "  super_population,\n",
        "  super_population_description,\n",
        "  super_population_count,\n",
        "  ROUND((super_population_count/TOTAL),2) AS super_population_ratio\n",
        "from(\n",
        "  SELECT\n",
        "    super_population,\n",
        "    super_population_description,\n",
        "    COUNT(population) AS super_population_count,\n",
        "    SUM(COUNT(population)) OVER() as TOTAL\n",
        "  FROM\n",
        "    `genomics-public-data.1000_genomes.sample_info` \n",
        "  WHERE\n",
        "    In_Phase1_Integrated_Variant_Set = TRUE\n",
        "  GROUP BY\n",
        "    super_population,\n",
        "    super_population_description\n",
        ")"
      ],
      "execution_count": 0,
      "outputs": []
    },
    {
      "cell_type": "code",
      "metadata": {
        "id": "h9_qlEWXQnRi",
        "colab_type": "code",
        "outputId": "dbde466c-e0a7-4402-ef4e-73efb6c9ec8f",
        "colab": {
          "base_uri": "https://localhost:8080/",
          "height": 34
        }
      },
      "source": [
        "bq_assistant.estimate_query_size(QUERY)"
      ],
      "execution_count": 171,
      "outputs": [
        {
          "output_type": "execute_result",
          "data": {
            "text/plain": [
              "6.825756281614304e-05"
            ]
          },
          "metadata": {
            "tags": []
          },
          "execution_count": 171
        }
      ]
    },
    {
      "cell_type": "code",
      "metadata": {
        "id": "f-seDIYRP3rn",
        "colab_type": "code",
        "colab": {}
      },
      "source": [
        "df = bq_assistant.query_to_pandas_safe(QUERY)"
      ],
      "execution_count": 0,
      "outputs": []
    },
    {
      "cell_type": "code",
      "metadata": {
        "id": "c4bExWdBP52s",
        "colab_type": "code",
        "outputId": "c98e2760-d680-40c8-af1b-9e188322a849",
        "colab": {
          "base_uri": "https://localhost:8080/",
          "height": 185
        }
      },
      "source": [
        "#To explore the results:\n",
        "print('Size of dataframe: {} Bytes'.format(int(df.memory_usage(index=True, deep=True).sum())))\n",
        "df.head()"
      ],
      "execution_count": 173,
      "outputs": [
        {
          "output_type": "stream",
          "text": [
            "Size of dataframe: 693 Bytes\n"
          ],
          "name": "stdout"
        },
        {
          "output_type": "execute_result",
          "data": {
            "application/vnd.google.colaboratory.module+javascript": "\n      import \"https://ssl.gstatic.com/colaboratory/data_table/9e554b27bdd509f3/data_table.js\";\n\n      window.createDataTable({\n        data: [[{\n            'v': 0,\n            'f': \"0\",\n        },\n\"EUR\",\n\"European\",\n{\n            'v': 379,\n            'f': \"379\",\n        },\n{\n            'v': 0.35,\n            'f': \"0.35\",\n        }],\n [{\n            'v': 1,\n            'f': \"1\",\n        },\n\"AMR\",\n\"American\",\n{\n            'v': 181,\n            'f': \"181\",\n        },\n{\n            'v': 0.17,\n            'f': \"0.17\",\n        }],\n [{\n            'v': 2,\n            'f': \"2\",\n        },\n\"EAS\",\n\"East Asian\",\n{\n            'v': 286,\n            'f': \"286\",\n        },\n{\n            'v': 0.26,\n            'f': \"0.26\",\n        }],\n [{\n            'v': 3,\n            'f': \"3\",\n        },\n\"AFR\",\n\"African\",\n{\n            'v': 246,\n            'f': \"246\",\n        },\n{\n            'v': 0.23,\n            'f': \"0.23\",\n        }]],\n        columns: [[\"number\", \"index\"], [\"string\", \"super_population\"], [\"string\", \"super_population_description\"], [\"number\", \"super_population_count\"], [\"number\", \"super_population_ratio\"]],\n        columnOptions: [{\"width\": \"1px\", \"className\": \"index_column\"}],\n        rowsPerPage: 25,\n        helpUrl: \"https://colab.research.google.com/notebooks/data_table.ipynb\",\n      });\n    ",
            "text/html": [
              "<div>\n",
              "<style scoped>\n",
              "    .dataframe tbody tr th:only-of-type {\n",
              "        vertical-align: middle;\n",
              "    }\n",
              "\n",
              "    .dataframe tbody tr th {\n",
              "        vertical-align: top;\n",
              "    }\n",
              "\n",
              "    .dataframe thead th {\n",
              "        text-align: right;\n",
              "    }\n",
              "</style>\n",
              "<table border=\"1\" class=\"dataframe\">\n",
              "  <thead>\n",
              "    <tr style=\"text-align: right;\">\n",
              "      <th></th>\n",
              "      <th>super_population</th>\n",
              "      <th>super_population_description</th>\n",
              "      <th>super_population_count</th>\n",
              "      <th>super_population_ratio</th>\n",
              "    </tr>\n",
              "  </thead>\n",
              "  <tbody>\n",
              "    <tr>\n",
              "      <th>0</th>\n",
              "      <td>EUR</td>\n",
              "      <td>European</td>\n",
              "      <td>379</td>\n",
              "      <td>0.35</td>\n",
              "    </tr>\n",
              "    <tr>\n",
              "      <th>1</th>\n",
              "      <td>AMR</td>\n",
              "      <td>American</td>\n",
              "      <td>181</td>\n",
              "      <td>0.17</td>\n",
              "    </tr>\n",
              "    <tr>\n",
              "      <th>2</th>\n",
              "      <td>EAS</td>\n",
              "      <td>East Asian</td>\n",
              "      <td>286</td>\n",
              "      <td>0.26</td>\n",
              "    </tr>\n",
              "    <tr>\n",
              "      <th>3</th>\n",
              "      <td>AFR</td>\n",
              "      <td>African</td>\n",
              "      <td>246</td>\n",
              "      <td>0.23</td>\n",
              "    </tr>\n",
              "  </tbody>\n",
              "</table>\n",
              "</div>"
            ],
            "text/plain": [
              "  super_population  ... super_population_ratio\n",
              "0              EUR  ...                   0.35\n",
              "1              AMR  ...                   0.17\n",
              "2              EAS  ...                   0.26\n",
              "3              AFR  ...                   0.23\n",
              "\n",
              "[4 rows x 4 columns]"
            ]
          },
          "metadata": {
            "tags": []
          },
          "execution_count": 173
        }
      ]
    },
    {
      "cell_type": "code",
      "metadata": {
        "id": "aRy0-zQ_LUyy",
        "colab_type": "code",
        "colab": {
          "base_uri": "https://localhost:8080/",
          "height": 282
        },
        "outputId": "d6e60b47-05a6-4b56-d431-c8b891426b64"
      },
      "source": [
        "objects = [df.iloc[0]['super_population'],df.iloc[1]['super_population'],df.iloc[2]['super_population'],df.iloc[3]['super_population']]\n",
        "y_pos = np.arange(len(objects))\n",
        "performance = [df.iloc[0]['super_population_count'],df.iloc[1]['super_population_count'],df.iloc[2]['super_population_count'],df.iloc[3]['super_population_count']]\n",
        "\n",
        "plt.bar(y_pos, performance, align='center', alpha=0.5)\n",
        "plt.xticks(y_pos, objects)\n",
        "plt.ylabel('super population count')\n",
        "plt.title('Count of samples in super populations')\n",
        "\n",
        "plt.show()"
      ],
      "execution_count": 182,
      "outputs": [
        {
          "output_type": "display_data",
          "data": {
            "image/png": "[encoded data removed]",
            "text/plain": [
              "<Figure size 432x288 with 1 Axes>"
            ]
          },
          "metadata": {
            "tags": []
          }
        }
      ]
    },
    {
      "cell_type": "markdown",
      "metadata": {
        "id": "119TWHVFcSY1",
        "colab_type": "text"
      },
      "source": [
        "***QUERY*** **5**: Ratio of Ethnicities grouped by Gender"
      ]
    },
    {
      "cell_type": "code",
      "metadata": {
        "id": "yyqMZCb8EabM",
        "colab_type": "code",
        "colab": {}
      },
      "source": [
        "%%bigquery --project subtle-signal-258712 df\n",
        "SELECT\n",
        "  population,\n",
        "  gender,\n",
        "  population_count,\n",
        "  ROUND((population_count/TOTAL),2) AS population_ratio\n",
        "from(\n",
        "  SELECT\n",
        "    gender,\n",
        "    population,\n",
        "    COUNT(population) AS population_count,\n",
        "    SUM(COUNT(population)) OVER () AS TOTAL\n",
        "     FROM\n",
        "    `genomics-public-data.1000_genomes.sample_info` \n",
        "  WHERE\n",
        "    In_Phase1_Integrated_Variant_Set = TRUE\n",
        "  GROUP BY\n",
        "    gender,\n",
        "    population)\n",
        "ORDER BY\n",
        "  population,\n",
        "  gender"
      ],
      "execution_count": 0,
      "outputs": []
    },
    {
      "cell_type": "code",
      "metadata": {
        "id": "BR1T00lFQoau",
        "colab_type": "code",
        "outputId": "0dc6342c-1e0b-4e39-8afb-34002dc3bd7f",
        "colab": {
          "base_uri": "https://localhost:8080/",
          "height": 34
        }
      },
      "source": [
        "bq_assistant.estimate_query_size(QUERY)"
      ],
      "execution_count": 175,
      "outputs": [
        {
          "output_type": "execute_result",
          "data": {
            "text/plain": [
              "4.015117883682251e-05"
            ]
          },
          "metadata": {
            "tags": []
          },
          "execution_count": 175
        }
      ]
    },
    {
      "cell_type": "code",
      "metadata": {
        "id": "MM0NeAKIP74y",
        "colab_type": "code",
        "colab": {}
      },
      "source": [
        "df = bq_assistant.query_to_pandas_safe(QUERY)"
      ],
      "execution_count": 0,
      "outputs": []
    },
    {
      "cell_type": "code",
      "metadata": {
        "id": "6v8491BiP98A",
        "colab_type": "code",
        "outputId": "d23baaaa-f25b-4787-b563-2533ea07c906",
        "colab": {
          "base_uri": "https://localhost:8080/",
          "height": 205
        }
      },
      "source": [
        "#To explore the results:\n",
        "print('Size of dataframe: {} Bytes'.format(int(df.memory_usage(index=True, deep=True).sum())))\n",
        "df.head()"
      ],
      "execution_count": 177,
      "outputs": [
        {
          "output_type": "stream",
          "text": [
            "Size of dataframe: 3992 Bytes\n"
          ],
          "name": "stdout"
        },
        {
          "output_type": "execute_result",
          "data": {
            "application/vnd.google.colaboratory.module+javascript": "\n      import \"https://ssl.gstatic.com/colaboratory/data_table/9e554b27bdd509f3/data_table.js\";\n\n      window.createDataTable({\n        data: [[{\n            'v': 0,\n            'f': \"0\",\n        },\n\"ASW\",\n\"female\",\n{\n            'v': 37,\n            'f': \"37\",\n        },\n{\n            'v': 0.03,\n            'f': \"0.03\",\n        }],\n [{\n            'v': 1,\n            'f': \"1\",\n        },\n\"ASW\",\n\"male\",\n{\n            'v': 24,\n            'f': \"24\",\n        },\n{\n            'v': 0.02,\n            'f': \"0.02\",\n        }],\n [{\n            'v': 2,\n            'f': \"2\",\n        },\n\"CEU\",\n\"female\",\n{\n            'v': 40,\n            'f': \"40\",\n        },\n{\n            'v': 0.04,\n            'f': \"0.04\",\n        }],\n [{\n            'v': 3,\n            'f': \"3\",\n        },\n\"CEU\",\n\"male\",\n{\n            'v': 45,\n            'f': \"45\",\n        },\n{\n            'v': 0.04,\n            'f': \"0.04\",\n        }],\n [{\n            'v': 4,\n            'f': \"4\",\n        },\n\"CHB\",\n\"female\",\n{\n            'v': 53,\n            'f': \"53\",\n        },\n{\n            'v': 0.05,\n            'f': \"0.05\",\n        }]],\n        columns: [[\"number\", \"index\"], [\"string\", \"population\"], [\"string\", \"gender\"], [\"number\", \"population_count\"], [\"number\", \"population_ratio\"]],\n        columnOptions: [{\"width\": \"1px\", \"className\": \"index_column\"}],\n        rowsPerPage: 25,\n        helpUrl: \"https://colab.research.google.com/notebooks/data_table.ipynb\",\n      });\n    ",
            "text/html": [
              "<div>\n",
              "<style scoped>\n",
              "    .dataframe tbody tr th:only-of-type {\n",
              "        vertical-align: middle;\n",
              "    }\n",
              "\n",
              "    .dataframe tbody tr th {\n",
              "        vertical-align: top;\n",
              "    }\n",
              "\n",
              "    .dataframe thead th {\n",
              "        text-align: right;\n",
              "    }\n",
              "</style>\n",
              "<table border=\"1\" class=\"dataframe\">\n",
              "  <thead>\n",
              "    <tr style=\"text-align: right;\">\n",
              "      <th></th>\n",
              "      <th>population</th>\n",
              "      <th>gender</th>\n",
              "      <th>population_count</th>\n",
              "      <th>population_ratio</th>\n",
              "    </tr>\n",
              "  </thead>\n",
              "  <tbody>\n",
              "    <tr>\n",
              "      <th>0</th>\n",
              "      <td>ASW</td>\n",
              "      <td>female</td>\n",
              "      <td>37</td>\n",
              "      <td>0.03</td>\n",
              "    </tr>\n",
              "    <tr>\n",
              "      <th>1</th>\n",
              "      <td>ASW</td>\n",
              "      <td>male</td>\n",
              "      <td>24</td>\n",
              "      <td>0.02</td>\n",
              "    </tr>\n",
              "    <tr>\n",
              "      <th>2</th>\n",
              "      <td>CEU</td>\n",
              "      <td>female</td>\n",
              "      <td>40</td>\n",
              "      <td>0.04</td>\n",
              "    </tr>\n",
              "    <tr>\n",
              "      <th>3</th>\n",
              "      <td>CEU</td>\n",
              "      <td>male</td>\n",
              "      <td>45</td>\n",
              "      <td>0.04</td>\n",
              "    </tr>\n",
              "    <tr>\n",
              "      <th>4</th>\n",
              "      <td>CHB</td>\n",
              "      <td>female</td>\n",
              "      <td>53</td>\n",
              "      <td>0.05</td>\n",
              "    </tr>\n",
              "  </tbody>\n",
              "</table>\n",
              "</div>"
            ],
            "text/plain": [
              "  population  gender  population_count  population_ratio\n",
              "0        ASW  female                37              0.03\n",
              "1        ASW    male                24              0.02\n",
              "2        CEU  female                40              0.04\n",
              "3        CEU    male                45              0.04\n",
              "4        CHB  female                53              0.05"
            ]
          },
          "metadata": {
            "tags": []
          },
          "execution_count": 177
        }
      ]
    },
    {
      "cell_type": "code",
      "metadata": {
        "id": "7lUTkhVONEON",
        "colab_type": "code",
        "colab": {
          "base_uri": "https://localhost:8080/",
          "height": 313
        },
        "outputId": "1a763440-e618-4ba6-8b22-3eecf52bd9b0"
      },
      "source": [
        "df.pivot(index='population', columns='gender', values='population_count').plot(kind='bar')"
      ],
      "execution_count": 187,
      "outputs": [
        {
          "output_type": "execute_result",
          "data": {
            "text/plain": [
              "<matplotlib.axes._subplots.AxesSubplot at 0x7f85ffe1fef0>"
            ]
          },
          "metadata": {
            "tags": []
          },
          "execution_count": 187
        },
        {
          "output_type": "display_data",
          "data": {
            "image/png": "[encoded data removed]",
            "text/plain": [
              "<Figure size 432x288 with 1 Axes>"
            ]
          },
          "metadata": {
            "tags": []
          }
        }
      ]
    },
    {
      "cell_type": "markdown",
      "metadata": {
        "id": "hTFwKRnacUwS",
        "colab_type": "text"
      },
      "source": [
        "***QUERY*** **6**: Distribution of family size"
      ]
    },
    {
      "cell_type": "code",
      "metadata": {
        "id": "1l6tN9bkEkbY",
        "colab_type": "code",
        "colab": {}
      },
      "source": [
        "%%bigquery --project subtle-signal-258712 df\n",
        "SELECT\n",
        "num_family_members AS family_size,\n",
        "COUNT(num_family_members) AS num_families_of_size\n",
        "FROM (\n",
        "  SELECT\n",
        "  family_id,\n",
        "  COUNT(family_id) AS num_family_members\n",
        "  FROM\n",
        "   `genomics-public-data.1000_genomes.sample_info` \n",
        "  WHERE\n",
        "  In_Phase1_Integrated_Variant_Set = TRUE\n",
        "  GROUP BY\n",
        "  family_id)\n",
        "GROUP BY\n",
        "family_size"
      ],
      "execution_count": 0,
      "outputs": []
    },
    {
      "cell_type": "code",
      "metadata": {
        "id": "YSA5esz2Qp-L",
        "colab_type": "code",
        "outputId": "2dbfefc1-22fc-4b12-f210-ccdc1d5e0c25",
        "colab": {
          "base_uri": "https://localhost:8080/",
          "height": 34
        }
      },
      "source": [
        "bq_assistant.estimate_query_size(QUERY)"
      ],
      "execution_count": 0,
      "outputs": [
        {
          "output_type": "execute_result",
          "data": {
            "text/plain": [
              "2.4281442165374756e-05"
            ]
          },
          "metadata": {
            "tags": []
          },
          "execution_count": 56
        }
      ]
    },
    {
      "cell_type": "code",
      "metadata": {
        "id": "ZLSEJqnzQsC0",
        "colab_type": "code",
        "colab": {}
      },
      "source": [
        "df = bq_assistant.query_to_pandas_safe(QUERY)"
      ],
      "execution_count": 0,
      "outputs": []
    },
    {
      "cell_type": "code",
      "metadata": {
        "id": "7pig7h_rQuKH",
        "colab_type": "code",
        "outputId": "f411a0a8-30b9-45d9-bb3b-6165456c8f71",
        "colab": {
          "base_uri": "https://localhost:8080/",
          "height": 185
        }
      },
      "source": [
        "#To explore the results:\n",
        "print('Size of dataframe: {} Bytes'.format(int(df.memory_usage(index=True, deep=True).sum())))\n",
        "df.head()"
      ],
      "execution_count": 0,
      "outputs": [
        {
          "output_type": "stream",
          "text": [
            "Size of dataframe: 192 Bytes\n"
          ],
          "name": "stdout"
        },
        {
          "output_type": "execute_result",
          "data": {
            "application/vnd.google.colaboratory.module+javascript": "\n      import \"https://ssl.gstatic.com/colaboratory/data_table/9e554b27bdd509f3/data_table.js\";\n\n      window.createDataTable({\n        data: [[{\n            'v': 0,\n            'f': \"0\",\n        },\n{\n            'v': 1,\n            'f': \"1\",\n        },\n{\n            'v': 636,\n            'f': \"636\",\n        }],\n [{\n            'v': 1,\n            'f': \"1\",\n        },\n{\n            'v': 2,\n            'f': \"2\",\n        },\n{\n            'v': 204,\n            'f': \"204\",\n        }],\n [{\n            'v': 2,\n            'f': \"2\",\n        },\n{\n            'v': 3,\n            'f': \"3\",\n        },\n{\n            'v': 12,\n            'f': \"12\",\n        }],\n [{\n            'v': 3,\n            'f': \"3\",\n        },\n{\n            'v': 4,\n            'f': \"4\",\n        },\n{\n            'v': 3,\n            'f': \"3\",\n        }]],\n        columns: [[\"number\", \"index\"], [\"number\", \"family_size\"], [\"number\", \"num_families_of_size\"]],\n        columnOptions: [{\"width\": \"1px\", \"className\": \"index_column\"}],\n        rowsPerPage: 25,\n        helpUrl: \"https://colab.research.google.com/notebooks/data_table.ipynb\",\n      });\n    ",
            "text/html": [
              "<div>\n",
              "<style scoped>\n",
              "    .dataframe tbody tr th:only-of-type {\n",
              "        vertical-align: middle;\n",
              "    }\n",
              "\n",
              "    .dataframe tbody tr th {\n",
              "        vertical-align: top;\n",
              "    }\n",
              "\n",
              "    .dataframe thead th {\n",
              "        text-align: right;\n",
              "    }\n",
              "</style>\n",
              "<table border=\"1\" class=\"dataframe\">\n",
              "  <thead>\n",
              "    <tr style=\"text-align: right;\">\n",
              "      <th></th>\n",
              "      <th>family_size</th>\n",
              "      <th>num_families_of_size</th>\n",
              "    </tr>\n",
              "  </thead>\n",
              "  <tbody>\n",
              "    <tr>\n",
              "      <th>0</th>\n",
              "      <td>1</td>\n",
              "      <td>636</td>\n",
              "    </tr>\n",
              "    <tr>\n",
              "      <th>1</th>\n",
              "      <td>2</td>\n",
              "      <td>204</td>\n",
              "    </tr>\n",
              "    <tr>\n",
              "      <th>2</th>\n",
              "      <td>3</td>\n",
              "      <td>12</td>\n",
              "    </tr>\n",
              "    <tr>\n",
              "      <th>3</th>\n",
              "      <td>4</td>\n",
              "      <td>3</td>\n",
              "    </tr>\n",
              "  </tbody>\n",
              "</table>\n",
              "</div>"
            ],
            "text/plain": [
              "   family_size  num_families_of_size\n",
              "0            1                   636\n",
              "1            2                   204\n",
              "2            3                    12\n",
              "3            4                     3"
            ]
          },
          "metadata": {
            "tags": []
          },
          "execution_count": 58
        }
      ]
    },
    {
      "cell_type": "code",
      "metadata": {
        "id": "bMvs7GsvNi_M",
        "colab_type": "code",
        "colab": {
          "base_uri": "https://localhost:8080/",
          "height": 299
        },
        "outputId": "9f128103-2c3a-4fe1-c2f2-075f59cbc323"
      },
      "source": [
        "df.plot(y='num_families_of_size', x='family_size', xticks=(1,2,3,4))"
      ],
      "execution_count": 190,
      "outputs": [
        {
          "output_type": "execute_result",
          "data": {
            "text/plain": [
              "<matplotlib.axes._subplots.AxesSubplot at 0x7f85ffff0b38>"
            ]
          },
          "metadata": {
            "tags": []
          },
          "execution_count": 190
        },
        {
          "output_type": "display_data",
          "data": {
            "image/png": "[encoded data removed]",
            "text/plain": [
              "<Figure size 432x288 with 1 Axes>"
            ]
          },
          "metadata": {
            "tags": []
          }
        }
      ]
    },
    {
      "cell_type": "markdown",
      "metadata": {
        "id": "uZkqxhm7FCZY",
        "colab_type": "text"
      },
      "source": [
        "**2.2** **EXPLORING VARIANT DATA**\n"
      ]
    },
    {
      "cell_type": "markdown",
      "metadata": {
        "id": "-2tWOkmlaOZY",
        "colab_type": "text"
      },
      "source": [
        "***QUERY*** **1**: Min/Max Chromosomal Positions of Variants"
      ]
    },
    {
      "cell_type": "code",
      "metadata": {
        "id": "QdXuw7mRFFgc",
        "colab_type": "code",
        "colab": {}
      },
      "source": [
        "QUERY ='''SELECT\n",
        "  CAST(reference_name AS INT64) AS chromosome,\n",
        "   MIN(start) AS min,\n",
        "   MAX(start) AS max\n",
        " FROM\n",
        "   `genomics-public-data.1000_genomes.variants`\n",
        " WHERE reference_name NOT IN (\"X\", \"Y\", \"MT\")\n",
        " GROUP BY\n",
        "   chromosome\n",
        "   ORDER BY\n",
        "    chromosome'''\n",
        "   #* A basic sanity check\n",
        "#Chromosomes 13,14,15,21,22 have abnormally high min positions.\n",
        "#Chromosome 7 has low min position.\n",
        "#Hard to sequence regions?"
      ],
      "execution_count": 0,
      "outputs": []
    },
    {
      "cell_type": "code",
      "metadata": {
        "id": "r1f-LwwnQytW",
        "colab_type": "code",
        "outputId": "b9283133-6feb-4d2d-bdda-38a411fe208e",
        "colab": {
          "base_uri": "https://localhost:8080/",
          "height": 34
        }
      },
      "source": [
        "bq_assistant.estimate_query_size(QUERY)"
      ],
      "execution_count": 127,
      "outputs": [
        {
          "output_type": "execute_result",
          "data": {
            "text/plain": [
              "0.42134151980280876"
            ]
          },
          "metadata": {
            "tags": []
          },
          "execution_count": 127
        }
      ]
    },
    {
      "cell_type": "code",
      "metadata": {
        "id": "zak4A7SGQBIN",
        "colab_type": "code",
        "colab": {}
      },
      "source": [
        "df = bq_assistant.query_to_pandas_safe(QUERY)"
      ],
      "execution_count": 0,
      "outputs": []
    },
    {
      "cell_type": "code",
      "metadata": {
        "id": "i_C33nmdQDcu",
        "colab_type": "code",
        "colab": {
          "base_uri": "https://localhost:8080/",
          "height": 205
        },
        "outputId": "15c5d829-3eee-41b9-89f8-e2ebfeb4c353"
      },
      "source": [
        "#To explore the results:\n",
        "print('Size of dataframe: {} Bytes'.format(int(df.memory_usage(index=True, deep=True).sum())))\n",
        "df.head()"
      ],
      "execution_count": 212,
      "outputs": [
        {
          "output_type": "stream",
          "text": [
            "Size of dataframe: 656 Bytes\n"
          ],
          "name": "stdout"
        },
        {
          "output_type": "execute_result",
          "data": {
            "application/vnd.google.colaboratory.module+javascript": "\n      import \"https://ssl.gstatic.com/colaboratory/data_table/9e554b27bdd509f3/data_table.js\";\n\n      window.createDataTable({\n        data: [[{\n            'v': 0,\n            'f': \"0\",\n        },\n{\n            'v': 1,\n            'f': \"1\",\n        },\n{\n            'v': 10582,\n            'f': \"10582\",\n        },\n{\n            'v': 249239464,\n            'f': \"249239464\",\n        }],\n [{\n            'v': 1,\n            'f': \"1\",\n        },\n{\n            'v': 2,\n            'f': \"2\",\n        },\n{\n            'v': 10132,\n            'f': \"10132\",\n        },\n{\n            'v': 243188918,\n            'f': \"243188918\",\n        }],\n [{\n            'v': 2,\n            'f': \"2\",\n        },\n{\n            'v': 3,\n            'f': \"3\",\n        },\n{\n            'v': 60156,\n            'f': \"60156\",\n        },\n{\n            'v': 197946620,\n            'f': \"197946620\",\n        }],\n [{\n            'v': 3,\n            'f': \"3\",\n        },\n{\n            'v': 4,\n            'f': \"4\",\n        },\n{\n            'v': 10239,\n            'f': \"10239\",\n        },\n{\n            'v': 191043592,\n            'f': \"191043592\",\n        }],\n [{\n            'v': 4,\n            'f': \"4\",\n        },\n{\n            'v': 5,\n            'f': \"5\",\n        },\n{\n            'v': 11939,\n            'f': \"11939\",\n        },\n{\n            'v': 180885154,\n            'f': \"180885154\",\n        }]],\n        columns: [[\"number\", \"index\"], [\"number\", \"chromosome\"], [\"number\", \"min\"], [\"number\", \"max\"]],\n        columnOptions: [{\"width\": \"1px\", \"className\": \"index_column\"}],\n        rowsPerPage: 25,\n        helpUrl: \"https://colab.research.google.com/notebooks/data_table.ipynb\",\n      });\n    ",
            "text/html": [
              "<div>\n",
              "<style scoped>\n",
              "    .dataframe tbody tr th:only-of-type {\n",
              "        vertical-align: middle;\n",
              "    }\n",
              "\n",
              "    .dataframe tbody tr th {\n",
              "        vertical-align: top;\n",
              "    }\n",
              "\n",
              "    .dataframe thead th {\n",
              "        text-align: right;\n",
              "    }\n",
              "</style>\n",
              "<table border=\"1\" class=\"dataframe\">\n",
              "  <thead>\n",
              "    <tr style=\"text-align: right;\">\n",
              "      <th></th>\n",
              "      <th>chromosome</th>\n",
              "      <th>min</th>\n",
              "      <th>max</th>\n",
              "    </tr>\n",
              "  </thead>\n",
              "  <tbody>\n",
              "    <tr>\n",
              "      <th>0</th>\n",
              "      <td>1</td>\n",
              "      <td>10582</td>\n",
              "      <td>249239464</td>\n",
              "    </tr>\n",
              "    <tr>\n",
              "      <th>1</th>\n",
              "      <td>2</td>\n",
              "      <td>10132</td>\n",
              "      <td>243188918</td>\n",
              "    </tr>\n",
              "    <tr>\n",
              "      <th>2</th>\n",
              "      <td>3</td>\n",
              "      <td>60156</td>\n",
              "      <td>197946620</td>\n",
              "    </tr>\n",
              "    <tr>\n",
              "      <th>3</th>\n",
              "      <td>4</td>\n",
              "      <td>10239</td>\n",
              "      <td>191043592</td>\n",
              "    </tr>\n",
              "    <tr>\n",
              "      <th>4</th>\n",
              "      <td>5</td>\n",
              "      <td>11939</td>\n",
              "      <td>180885154</td>\n",
              "    </tr>\n",
              "  </tbody>\n",
              "</table>\n",
              "</div>"
            ],
            "text/plain": [
              "   chromosome    min        max\n",
              "0           1  10582  249239464\n",
              "1           2  10132  243188918\n",
              "2           3  60156  197946620\n",
              "3           4  10239  191043592\n",
              "4           5  11939  180885154"
            ]
          },
          "metadata": {
            "tags": []
          },
          "execution_count": 212
        }
      ]
    },
    {
      "cell_type": "code",
      "metadata": {
        "id": "ZlLwUplrh536",
        "colab_type": "code",
        "colab": {}
      },
      "source": [
        "dff = pd.DataFrame({'min': np.log(df['min']), 'max': np.log(df['max'])}, index=df['chromosome'])\n",
        "dff.plot.bar(rot=0)"
      ],
      "execution_count": 0,
      "outputs": []
    },
    {
      "cell_type": "markdown",
      "metadata": {
        "id": "49vCdmH6ahzi",
        "colab_type": "text"
      },
      "source": [
        "***QUERY*** **2**: Frequency of Variant Types Per Chromosome"
      ]
    },
    {
      "cell_type": "code",
      "metadata": {
        "id": "Xfg-D4RKFIM1",
        "colab_type": "code",
        "colab": {}
      },
      "source": [
        "QUERY ='''SELECT\n",
        "  CAST(reference_name AS INT64) AS chromosome,\n",
        "  vt AS variant_type,\n",
        "  COUNT(1) AS cnt\n",
        " FROM\n",
        "   `genomics-public-data.1000_genomes.variants`\n",
        " WHERE reference_name NOT IN (\"X\", \"Y\", \"MT\")\n",
        " GROUP BY\n",
        "   chromosome,\n",
        "   variant_type '''\n",
        "   #* Mostly SNPs. * Very few structural variants. * Note suppressed zero."
      ],
      "execution_count": 0,
      "outputs": []
    },
    {
      "cell_type": "code",
      "metadata": {
        "id": "PvEbPzMmQ06u",
        "colab_type": "code",
        "colab": {
          "base_uri": "https://localhost:8080/",
          "height": 34
        },
        "outputId": "7b960366-13ea-41f9-a058-666ac37afa73"
      },
      "source": [
        "bq_assistant.estimate_query_size(QUERY)"
      ],
      "execution_count": 214,
      "outputs": [
        {
          "output_type": "execute_result",
          "data": {
            "text/plain": [
              "0.31291691306978464"
            ]
          },
          "metadata": {
            "tags": []
          },
          "execution_count": 214
        }
      ]
    },
    {
      "cell_type": "code",
      "metadata": {
        "id": "digHD6lOQGNX",
        "colab_type": "code",
        "colab": {}
      },
      "source": [
        "df = bq_assistant.query_to_pandas_safe(QUERY)"
      ],
      "execution_count": 0,
      "outputs": []
    },
    {
      "cell_type": "code",
      "metadata": {
        "id": "SOiY0B_XQEjE",
        "colab_type": "code",
        "colab": {
          "base_uri": "https://localhost:8080/",
          "height": 205
        },
        "outputId": "3e419ca6-f521-4278-dda3-bd5eb4e69cea"
      },
      "source": [
        "#To explore the results:\n",
        "print('Size of dataframe: {} Bytes'.format(int(df.memory_usage(index=True, deep=True).sum())))\n",
        "df.head()"
      ],
      "execution_count": 216,
      "outputs": [
        {
          "output_type": "stream",
          "text": [
            "Size of dataframe: 5166 Bytes\n"
          ],
          "name": "stdout"
        },
        {
          "output_type": "execute_result",
          "data": {
            "application/vnd.google.colaboratory.module+javascript": "\n      import \"https://ssl.gstatic.com/colaboratory/data_table/9e554b27bdd509f3/data_table.js\";\n\n      window.createDataTable({\n        data: [[{\n            'v': 0,\n            'f': \"0\",\n        },\n{\n            'v': 22,\n            'f': \"22\",\n        },\n\"SNP\",\n{\n            'v': 475371,\n            'f': \"475371\",\n        }],\n [{\n            'v': 1,\n            'f': \"1\",\n        },\n{\n            'v': 13,\n            'f': \"13\",\n        },\n\"INDEL\",\n{\n            'v': 52983,\n            'f': \"52983\",\n        }],\n [{\n            'v': 2,\n            'f': \"2\",\n        },\n{\n            'v': 3,\n            'f': \"3\",\n        },\n\"INDEL\",\n{\n            'v': 98512,\n            'f': \"98512\",\n        }],\n [{\n            'v': 3,\n            'f': \"3\",\n        },\n{\n            'v': 2,\n            'f': \"2\",\n        },\n\"INDEL\",\n{\n            'v': 116562,\n            'f': \"116562\",\n        }],\n [{\n            'v': 4,\n            'f': \"4\",\n        },\n{\n            'v': 10,\n            'f': \"10\",\n        },\n\"SV\",\n{\n            'v': 651,\n            'f': \"651\",\n        }]],\n        columns: [[\"number\", \"index\"], [\"number\", \"chromosome\"], [\"string\", \"variant_type\"], [\"number\", \"cnt\"]],\n        columnOptions: [{\"width\": \"1px\", \"className\": \"index_column\"}],\n        rowsPerPage: 25,\n        helpUrl: \"https://colab.research.google.com/notebooks/data_table.ipynb\",\n      });\n    ",
            "text/html": [
              "<div>\n",
              "<style scoped>\n",
              "    .dataframe tbody tr th:only-of-type {\n",
              "        vertical-align: middle;\n",
              "    }\n",
              "\n",
              "    .dataframe tbody tr th {\n",
              "        vertical-align: top;\n",
              "    }\n",
              "\n",
              "    .dataframe thead th {\n",
              "        text-align: right;\n",
              "    }\n",
              "</style>\n",
              "<table border=\"1\" class=\"dataframe\">\n",
              "  <thead>\n",
              "    <tr style=\"text-align: right;\">\n",
              "      <th></th>\n",
              "      <th>chromosome</th>\n",
              "      <th>variant_type</th>\n",
              "      <th>cnt</th>\n",
              "    </tr>\n",
              "  </thead>\n",
              "  <tbody>\n",
              "    <tr>\n",
              "      <th>0</th>\n",
              "      <td>22</td>\n",
              "      <td>SNP</td>\n",
              "      <td>475371</td>\n",
              "    </tr>\n",
              "    <tr>\n",
              "      <th>1</th>\n",
              "      <td>13</td>\n",
              "      <td>INDEL</td>\n",
              "      <td>52983</td>\n",
              "    </tr>\n",
              "    <tr>\n",
              "      <th>2</th>\n",
              "      <td>3</td>\n",
              "      <td>INDEL</td>\n",
              "      <td>98512</td>\n",
              "    </tr>\n",
              "    <tr>\n",
              "      <th>3</th>\n",
              "      <td>2</td>\n",
              "      <td>INDEL</td>\n",
              "      <td>116562</td>\n",
              "    </tr>\n",
              "    <tr>\n",
              "      <th>4</th>\n",
              "      <td>10</td>\n",
              "      <td>SV</td>\n",
              "      <td>651</td>\n",
              "    </tr>\n",
              "  </tbody>\n",
              "</table>\n",
              "</div>"
            ],
            "text/plain": [
              "   chromosome variant_type     cnt\n",
              "0          22          SNP  475371\n",
              "1          13        INDEL   52983\n",
              "2           3        INDEL   98512\n",
              "3           2        INDEL  116562\n",
              "4          10           SV     651"
            ]
          },
          "metadata": {
            "tags": []
          },
          "execution_count": 216
        }
      ]
    },
    {
      "cell_type": "code",
      "metadata": {
        "id": "HOpVh9xIOLgX",
        "colab_type": "code",
        "colab": {}
      },
      "source": [
        "pivot_df = df.pivot(index='chromosome', columns='variant_type', values='cnt')\n",
        "pivot_df.plot.bar(stacked=True,  figsize=(10,7))"
      ],
      "execution_count": 0,
      "outputs": []
    },
    {
      "cell_type": "markdown",
      "metadata": {
        "id": "B3dzUgABanfK",
        "colab_type": "text"
      },
      "source": [
        "***QUERY*** **3**: Types of SNP pairs (looks at both alleles)"
      ]
    },
    {
      "cell_type": "code",
      "metadata": {
        "id": "Ov8KlfB2FmDK",
        "colab_type": "code",
        "colab": {
          "base_uri": "https://localhost:8080/",
          "height": 598
        },
        "outputId": "4eeae5e7-6ab2-4463-c253-5b2b12f77cfd"
      },
      "source": [
        "%%bigquery --project subtle-signal-258712 --use_legacy_sql\n",
        "SELECT\n",
        "  reference_bases AS reference,\n",
        "  CONCAT(\n",
        "    IF(first_allele=0,\n",
        "       reference_bases,\n",
        "       alternate_bases),\n",
        "    \"|\",\n",
        "    IF(second_allele=0,\n",
        "       reference_bases,\n",
        "       alternate_bases)\n",
        "    ) AS alleles,\n",
        "  COUNT(1) AS cnt,\n",
        "FROM\n",
        "     FLATTEN((SELECT \n",
        "         reference_name,\n",
        "         reference_bases,\n",
        "         alternate_bases,\n",
        "         vt,\n",
        "         NTH(1, call.genotype) WITHIN call AS first_allele,\n",
        "         NTH(2, call.genotype) WITHIN call AS second_allele\n",
        "       FROM [genomics-public-data:1000_genomes.variants])\n",
        "     , call)\n",
        "OMIT RECORD IF\n",
        "     reference_name IN (\"X\", \"Y\", \"MT\")\n",
        "  OR first_allele < 0\n",
        "  OR second_allele < 0\n",
        "  OR vt != \"SNP\"\n",
        "GROUP BY\n",
        "  reference,\n",
        "  alleles\n",
        "  #Total count is #genomes * #SNPs. * Same data - two views\n",
        "#Red bars denote no mutation - both alleles equal reference.\n",
        "\n",
        "#Why are A -> C,C and A-> G,G likely, but not A -> C,G or A -> G,C?\n",
        "\n",
        "#Note that A & T rows are reverses of each other, as are C & G rows."
      ],
      "execution_count": 218,
      "outputs": [
        {
          "output_type": "execute_result",
          "data": {
            "application/vnd.google.colaboratory.module+javascript": "\n      import \"https://ssl.gstatic.com/colaboratory/data_table/9e554b27bdd509f3/data_table.js\";\n\n      window.createDataTable({\n        data: [[{\n            'v': 0,\n            'f': \"0\",\n        },\n\"C\",\n\"T|C\",\n{\n            'v': 220478193,\n            'f': \"220478193\",\n        }],\n [{\n            'v': 1,\n            'f': \"1\",\n        },\n\"C\",\n\"C|A\",\n{\n            'v': 52266563,\n            'f': \"52266563\",\n        }],\n [{\n            'v': 2,\n            'f': \"2\",\n        },\n\"C\",\n\"G|C\",\n{\n            'v': 52114972,\n            'f': \"52114972\",\n        }],\n [{\n            'v': 3,\n            'f': \"3\",\n        },\n\"T\",\n\"T|G\",\n{\n            'v': 47376201,\n            'f': \"47376201\",\n        }],\n [{\n            'v': 4,\n            'f': \"4\",\n        },\n\"T\",\n\"A|A\",\n{\n            'v': 52008013,\n            'f': \"52008013\",\n        }],\n [{\n            'v': 5,\n            'f': \"5\",\n        },\n\"T\",\n\"C|C\",\n{\n            'v': 270892281,\n            'f': \"270892281\",\n        }],\n [{\n            'v': 6,\n            'f': \"6\",\n        },\n\"G\",\n\"C|C\",\n{\n            'v': 65886211,\n            'f': \"65886211\",\n        }],\n [{\n            'v': 7,\n            'f': \"7\",\n        },\n\"G\",\n\"G|C\",\n{\n            'v': 52175403,\n            'f': \"52175403\",\n        }],\n [{\n            'v': 8,\n            'f': \"8\",\n        },\n\"A\",\n\"A|T\",\n{\n            'v': 42098551,\n            'f': \"42098551\",\n        }],\n [{\n            'v': 9,\n            'f': \"9\",\n        },\n\"C\",\n\"A|C\",\n{\n            'v': 52251229,\n            'f': \"52251229\",\n        }],\n [{\n            'v': 10,\n            'f': \"10\",\n        },\n\"T\",\n\"G|G\",\n{\n            'v': 64481800,\n            'f': \"64481800\",\n        }],\n [{\n            'v': 11,\n            'f': \"11\",\n        },\n\"A\",\n\"A|G\",\n{\n            'v': 190193924,\n            'f': \"190193924\",\n        }],\n [{\n            'v': 12,\n            'f': \"12\",\n        },\n\"T\",\n\"T|C\",\n{\n            'v': 190350406,\n            'f': \"190350406\",\n        }],\n [{\n            'v': 13,\n            'f': \"13\",\n        },\n\"A\",\n\"A|C\",\n{\n            'v': 47649777,\n            'f': \"47649777\",\n        }],\n [{\n            'v': 14,\n            'f': \"14\",\n        },\n\"C\",\n\"C|G\",\n{\n            'v': 52163897,\n            'f': \"52163897\",\n        }],\n [{\n            'v': 15,\n            'f': \"15\",\n        },\n\"G\",\n\"G|T\",\n{\n            'v': 52164964,\n            'f': \"52164964\",\n        }],\n [{\n            'v': 16,\n            'f': \"16\",\n        },\n\"T\",\n\"G|T\",\n{\n            'v': 47380525,\n            'f': \"47380525\",\n        }],\n [{\n            'v': 17,\n            'f': \"17\",\n        },\n\"A\",\n\"C|C\",\n{\n            'v': 64737783,\n            'f': \"64737783\",\n        }],\n [{\n            'v': 18,\n            'f': \"18\",\n        },\n\"A\",\n\"G|A\",\n{\n            'v': 190100179,\n            'f': \"190100179\",\n        }],\n [{\n            'v': 19,\n            'f': \"19\",\n        },\n\"G\",\n\"G|A\",\n{\n            'v': 221089752,\n            'f': \"221089752\",\n        }],\n [{\n            'v': 20,\n            'f': \"20\",\n        },\n\"A\",\n\"C|A\",\n{\n            'v': 47614060,\n            'f': \"47614060\",\n        }],\n [{\n            'v': 21,\n            'f': \"21\",\n        },\n\"A\",\n\"T|A\",\n{\n            'v': 42112725,\n            'f': \"42112725\",\n        }],\n [{\n            'v': 22,\n            'f': \"22\",\n        },\n\"G\",\n\"A|A\",\n{\n            'v': 239948625,\n            'f': \"239948625\",\n        }],\n [{\n            'v': 23,\n            'f': \"23\",\n        },\n\"G\",\n\"C|G\",\n{\n            'v': 52143230,\n            'f': \"52143230\",\n        }],\n [{\n            'v': 24,\n            'f': \"24\",\n        },\n\"C\",\n\"C|C\",\n{\n            'v': 10699813128,\n            'f': \"10699813128\",\n        }],\n [{\n            'v': 25,\n            'f': \"25\",\n        },\n\"C\",\n\"C|T\",\n{\n            'v': 220580261,\n            'f': \"220580261\",\n        }],\n [{\n            'v': 26,\n            'f': \"26\",\n        },\n\"C\",\n\"T|T\",\n{\n            'v': 240050672,\n            'f': \"240050672\",\n        }],\n [{\n            'v': 27,\n            'f': \"27\",\n        },\n\"A\",\n\"G|G\",\n{\n            'v': 270524135,\n            'f': \"270524135\",\n        }],\n [{\n            'v': 28,\n            'f': \"28\",\n        },\n\"G\",\n\"T|T\",\n{\n            'v': 60584405,\n            'f': \"60584405\",\n        }],\n [{\n            'v': 29,\n            'f': \"29\",\n        },\n\"C\",\n\"A|A\",\n{\n            'v': 60234986,\n            'f': \"60234986\",\n        }],\n [{\n            'v': 30,\n            'f': \"30\",\n        },\n\"T\",\n\"T|T\",\n{\n            'v': 7428937083,\n            'f': \"7428937083\",\n        }],\n [{\n            'v': 31,\n            'f': \"31\",\n        },\n\"T\",\n\"C|T\",\n{\n            'v': 190238453,\n            'f': \"190238453\",\n        }],\n [{\n            'v': 32,\n            'f': \"32\",\n        },\n\"G\",\n\"A|G\",\n{\n            'v': 221025523,\n            'f': \"221025523\",\n        }],\n [{\n            'v': 33,\n            'f': \"33\",\n        },\n\"T\",\n\"T|A\",\n{\n            'v': 42222816,\n            'f': \"42222816\",\n        }],\n [{\n            'v': 34,\n            'f': \"34\",\n        },\n\"G\",\n\"G|G\",\n{\n            'v': 10712543556,\n            'f': \"10712543556\",\n        }],\n [{\n            'v': 35,\n            'f': \"35\",\n        },\n\"C\",\n\"G|G\",\n{\n            'v': 65627067,\n            'f': \"65627067\",\n        }],\n [{\n            'v': 36,\n            'f': \"36\",\n        },\n\"A\",\n\"A|A\",\n{\n            'v': 7440085114,\n            'f': \"7440085114\",\n        }],\n [{\n            'v': 37,\n            'f': \"37\",\n        },\n\"A\",\n\"T|T\",\n{\n            'v': 52013776,\n            'f': \"52013776\",\n        }],\n [{\n            'v': 38,\n            'f': \"38\",\n        },\n\"T\",\n\"A|T\",\n{\n            'v': 42213246,\n            'f': \"42213246\",\n        }],\n [{\n            'v': 39,\n            'f': \"39\",\n        },\n\"G\",\n\"T|G\",\n{\n            'v': 52149779,\n            'f': \"52149779\",\n        }]],\n        columns: [[\"number\", \"index\"], [\"string\", \"reference\"], [\"string\", \"alleles\"], [\"number\", \"cnt\"]],\n        columnOptions: [{\"width\": \"1px\", \"className\": \"index_column\"}],\n        rowsPerPage: 25,\n        helpUrl: \"https://colab.research.google.com/notebooks/data_table.ipynb\",\n      });\n    ",
            "text/html": [
              "<div>\n",
              "<style scoped>\n",
              "    .dataframe tbody tr th:only-of-type {\n",
              "        vertical-align: middle;\n",
              "    }\n",
              "\n",
              "    .dataframe tbody tr th {\n",
              "        vertical-align: top;\n",
              "    }\n",
              "\n",
              "    .dataframe thead th {\n",
              "        text-align: right;\n",
              "    }\n",
              "</style>\n",
              "<table border=\"1\" class=\"dataframe\">\n",
              "  <thead>\n",
              "    <tr style=\"text-align: right;\">\n",
              "      <th></th>\n",
              "      <th>reference</th>\n",
              "      <th>alleles</th>\n",
              "      <th>cnt</th>\n",
              "    </tr>\n",
              "  </thead>\n",
              "  <tbody>\n",
              "    <tr>\n",
              "      <th>0</th>\n",
              "      <td>C</td>\n",
              "      <td>T|C</td>\n",
              "      <td>220478193</td>\n",
              "    </tr>\n",
              "    <tr>\n",
              "      <th>1</th>\n",
              "      <td>C</td>\n",
              "      <td>C|A</td>\n",
              "      <td>52266563</td>\n",
              "    </tr>\n",
              "    <tr>\n",
              "      <th>2</th>\n",
              "      <td>C</td>\n",
              "      <td>G|C</td>\n",
              "      <td>52114972</td>\n",
              "    </tr>\n",
              "    <tr>\n",
              "      <th>3</th>\n",
              "      <td>T</td>\n",
              "      <td>T|G</td>\n",
              "      <td>47376201</td>\n",
              "    </tr>\n",
              "    <tr>\n",
              "      <th>4</th>\n",
              "      <td>T</td>\n",
              "      <td>A|A</td>\n",
              "      <td>52008013</td>\n",
              "    </tr>\n",
              "    <tr>\n",
              "      <th>5</th>\n",
              "      <td>T</td>\n",
              "      <td>C|C</td>\n",
              "      <td>270892281</td>\n",
              "    </tr>\n",
              "    <tr>\n",
              "      <th>6</th>\n",
              "      <td>G</td>\n",
              "      <td>C|C</td>\n",
              "      <td>65886211</td>\n",
              "    </tr>\n",
              "    <tr>\n",
              "      <th>7</th>\n",
              "      <td>G</td>\n",
              "      <td>G|C</td>\n",
              "      <td>52175403</td>\n",
              "    </tr>\n",
              "    <tr>\n",
              "      <th>8</th>\n",
              "      <td>A</td>\n",
              "      <td>A|T</td>\n",
              "      <td>42098551</td>\n",
              "    </tr>\n",
              "    <tr>\n",
              "      <th>9</th>\n",
              "      <td>C</td>\n",
              "      <td>A|C</td>\n",
              "      <td>52251229</td>\n",
              "    </tr>\n",
              "    <tr>\n",
              "      <th>10</th>\n",
              "      <td>T</td>\n",
              "      <td>G|G</td>\n",
              "      <td>64481800</td>\n",
              "    </tr>\n",
              "    <tr>\n",
              "      <th>11</th>\n",
              "      <td>A</td>\n",
              "      <td>A|G</td>\n",
              "      <td>190193924</td>\n",
              "    </tr>\n",
              "    <tr>\n",
              "      <th>12</th>\n",
              "      <td>T</td>\n",
              "      <td>T|C</td>\n",
              "      <td>190350406</td>\n",
              "    </tr>\n",
              "    <tr>\n",
              "      <th>13</th>\n",
              "      <td>A</td>\n",
              "      <td>A|C</td>\n",
              "      <td>47649777</td>\n",
              "    </tr>\n",
              "    <tr>\n",
              "      <th>14</th>\n",
              "      <td>C</td>\n",
              "      <td>C|G</td>\n",
              "      <td>52163897</td>\n",
              "    </tr>\n",
              "    <tr>\n",
              "      <th>15</th>\n",
              "      <td>G</td>\n",
              "      <td>G|T</td>\n",
              "      <td>52164964</td>\n",
              "    </tr>\n",
              "    <tr>\n",
              "      <th>16</th>\n",
              "      <td>T</td>\n",
              "      <td>G|T</td>\n",
              "      <td>47380525</td>\n",
              "    </tr>\n",
              "    <tr>\n",
              "      <th>17</th>\n",
              "      <td>A</td>\n",
              "      <td>C|C</td>\n",
              "      <td>64737783</td>\n",
              "    </tr>\n",
              "    <tr>\n",
              "      <th>18</th>\n",
              "      <td>A</td>\n",
              "      <td>G|A</td>\n",
              "      <td>190100179</td>\n",
              "    </tr>\n",
              "    <tr>\n",
              "      <th>19</th>\n",
              "      <td>G</td>\n",
              "      <td>G|A</td>\n",
              "      <td>221089752</td>\n",
              "    </tr>\n",
              "    <tr>\n",
              "      <th>20</th>\n",
              "      <td>A</td>\n",
              "      <td>C|A</td>\n",
              "      <td>47614060</td>\n",
              "    </tr>\n",
              "    <tr>\n",
              "      <th>21</th>\n",
              "      <td>A</td>\n",
              "      <td>T|A</td>\n",
              "      <td>42112725</td>\n",
              "    </tr>\n",
              "    <tr>\n",
              "      <th>22</th>\n",
              "      <td>G</td>\n",
              "      <td>A|A</td>\n",
              "      <td>239948625</td>\n",
              "    </tr>\n",
              "    <tr>\n",
              "      <th>23</th>\n",
              "      <td>G</td>\n",
              "      <td>C|G</td>\n",
              "      <td>52143230</td>\n",
              "    </tr>\n",
              "    <tr>\n",
              "      <th>24</th>\n",
              "      <td>C</td>\n",
              "      <td>C|C</td>\n",
              "      <td>10699813128</td>\n",
              "    </tr>\n",
              "    <tr>\n",
              "      <th>25</th>\n",
              "      <td>C</td>\n",
              "      <td>C|T</td>\n",
              "      <td>220580261</td>\n",
              "    </tr>\n",
              "    <tr>\n",
              "      <th>26</th>\n",
              "      <td>C</td>\n",
              "      <td>T|T</td>\n",
              "      <td>240050672</td>\n",
              "    </tr>\n",
              "    <tr>\n",
              "      <th>27</th>\n",
              "      <td>A</td>\n",
              "      <td>G|G</td>\n",
              "      <td>270524135</td>\n",
              "    </tr>\n",
              "    <tr>\n",
              "      <th>28</th>\n",
              "      <td>G</td>\n",
              "      <td>T|T</td>\n",
              "      <td>60584405</td>\n",
              "    </tr>\n",
              "    <tr>\n",
              "      <th>29</th>\n",
              "      <td>C</td>\n",
              "      <td>A|A</td>\n",
              "      <td>60234986</td>\n",
              "    </tr>\n",
              "    <tr>\n",
              "      <th>30</th>\n",
              "      <td>T</td>\n",
              "      <td>T|T</td>\n",
              "      <td>7428937083</td>\n",
              "    </tr>\n",
              "    <tr>\n",
              "      <th>31</th>\n",
              "      <td>T</td>\n",
              "      <td>C|T</td>\n",
              "      <td>190238453</td>\n",
              "    </tr>\n",
              "    <tr>\n",
              "      <th>32</th>\n",
              "      <td>G</td>\n",
              "      <td>A|G</td>\n",
              "      <td>221025523</td>\n",
              "    </tr>\n",
              "    <tr>\n",
              "      <th>33</th>\n",
              "      <td>T</td>\n",
              "      <td>T|A</td>\n",
              "      <td>42222816</td>\n",
              "    </tr>\n",
              "    <tr>\n",
              "      <th>34</th>\n",
              "      <td>G</td>\n",
              "      <td>G|G</td>\n",
              "      <td>10712543556</td>\n",
              "    </tr>\n",
              "    <tr>\n",
              "      <th>35</th>\n",
              "      <td>C</td>\n",
              "      <td>G|G</td>\n",
              "      <td>65627067</td>\n",
              "    </tr>\n",
              "    <tr>\n",
              "      <th>36</th>\n",
              "      <td>A</td>\n",
              "      <td>A|A</td>\n",
              "      <td>7440085114</td>\n",
              "    </tr>\n",
              "    <tr>\n",
              "      <th>37</th>\n",
              "      <td>A</td>\n",
              "      <td>T|T</td>\n",
              "      <td>52013776</td>\n",
              "    </tr>\n",
              "    <tr>\n",
              "      <th>38</th>\n",
              "      <td>T</td>\n",
              "      <td>A|T</td>\n",
              "      <td>42213246</td>\n",
              "    </tr>\n",
              "    <tr>\n",
              "      <th>39</th>\n",
              "      <td>G</td>\n",
              "      <td>T|G</td>\n",
              "      <td>52149779</td>\n",
              "    </tr>\n",
              "  </tbody>\n",
              "</table>\n",
              "</div>"
            ],
            "text/plain": [
              "   reference alleles          cnt\n",
              "0          C     T|C    220478193\n",
              "1          C     C|A     52266563\n",
              "2          C     G|C     52114972\n",
              "3          T     T|G     47376201\n",
              "4          T     A|A     52008013\n",
              "5          T     C|C    270892281\n",
              "6          G     C|C     65886211\n",
              "7          G     G|C     52175403\n",
              "8          A     A|T     42098551\n",
              "9          C     A|C     52251229\n",
              "10         T     G|G     64481800\n",
              "11         A     A|G    190193924\n",
              "12         T     T|C    190350406\n",
              "13         A     A|C     47649777\n",
              "14         C     C|G     52163897\n",
              "15         G     G|T     52164964\n",
              "16         T     G|T     47380525\n",
              "17         A     C|C     64737783\n",
              "18         A     G|A    190100179\n",
              "19         G     G|A    221089752\n",
              "20         A     C|A     47614060\n",
              "21         A     T|A     42112725\n",
              "22         G     A|A    239948625\n",
              "23         G     C|G     52143230\n",
              "24         C     C|C  10699813128\n",
              "25         C     C|T    220580261\n",
              "26         C     T|T    240050672\n",
              "27         A     G|G    270524135\n",
              "28         G     T|T     60584405\n",
              "29         C     A|A     60234986\n",
              "30         T     T|T   7428937083\n",
              "31         T     C|T    190238453\n",
              "32         G     A|G    221025523\n",
              "33         T     T|A     42222816\n",
              "34         G     G|G  10712543556\n",
              "35         C     G|G     65627067\n",
              "36         A     A|A   7440085114\n",
              "37         A     T|T     52013776\n",
              "38         T     A|T     42213246\n",
              "39         G     T|G     52149779"
            ]
          },
          "metadata": {
            "tags": []
          },
          "execution_count": 218
        }
      ]
    },
    {
      "cell_type": "code",
      "metadata": {
        "id": "c3QB4NyxQ28D",
        "colab_type": "code",
        "colab": {}
      },
      "source": [
        "bq_assistant.estimate_query_size(QUERY)"
      ],
      "execution_count": 0,
      "outputs": []
    },
    {
      "cell_type": "code",
      "metadata": {
        "id": "T-o-GYC-QHmr",
        "colab_type": "code",
        "colab": {}
      },
      "source": [
        "df = bq_assistant.query_to_pandas_safe(QUERY)"
      ],
      "execution_count": 0,
      "outputs": []
    },
    {
      "cell_type": "code",
      "metadata": {
        "id": "yNdkchwIQJ4y",
        "colab_type": "code",
        "colab": {}
      },
      "source": [
        "#To explore the results:\n",
        "print('Size of dataframe: {} Bytes'.format(int(df.memory_usage(index=True, deep=True).sum())))\n",
        "df.head()"
      ],
      "execution_count": 0,
      "outputs": []
    }
  ]
}